{
 "cells": [
  {
   "cell_type": "markdown",
   "metadata": {},
   "source": [
    "# KNN CLassification for 16 Features- Shermaine\n"
   ]
  },
  {
   "cell_type": "markdown",
   "metadata": {},
   "source": [
    "# Import Libraries"
   ]
  },
  {
   "cell_type": "code",
   "execution_count": 1,
   "metadata": {},
   "outputs": [],
   "source": [
    "import numpy as np # linear algebra\n",
    "import pandas as pd # data processing, CSV file I/O (e.g. pd.read_csv)\n",
    "import time\n",
    "import matplotlib.pyplot as plt\n",
    "import seaborn as sns"
   ]
  },
  {
   "cell_type": "markdown",
   "metadata": {},
   "source": [
    "# Read File/ Data Exploration"
   ]
  },
  {
   "cell_type": "code",
   "execution_count": 2,
   "metadata": {},
   "outputs": [],
   "source": [
    "df= pd.read_csv(\"C:/Users/Shermaine/Documents/Python ML II (Cher Wah)/caknn/fs/NewFeatures_16_Sher3.csv\")"
   ]
  },
  {
   "cell_type": "code",
   "execution_count": 3,
   "metadata": {},
   "outputs": [
    {
     "data": {
      "text/html": [
       "<div>\n",
       "<style scoped>\n",
       "    .dataframe tbody tr th:only-of-type {\n",
       "        vertical-align: middle;\n",
       "    }\n",
       "\n",
       "    .dataframe tbody tr th {\n",
       "        vertical-align: top;\n",
       "    }\n",
       "\n",
       "    .dataframe thead th {\n",
       "        text-align: right;\n",
       "    }\n",
       "</style>\n",
       "<table border=\"1\" class=\"dataframe\">\n",
       "  <thead>\n",
       "    <tr style=\"text-align: right;\">\n",
       "      <th></th>\n",
       "      <th>diagnosis</th>\n",
       "      <th>texture_mean</th>\n",
       "      <th>area_mean</th>\n",
       "      <th>smoothness_mean</th>\n",
       "      <th>concavity_mean</th>\n",
       "      <th>symmetry_mean</th>\n",
       "      <th>fractal_dimension_mean</th>\n",
       "      <th>texture_se</th>\n",
       "      <th>area_se</th>\n",
       "      <th>smoothness_se</th>\n",
       "      <th>concavity_se</th>\n",
       "      <th>symmetry_se</th>\n",
       "      <th>fractal_dimension_se</th>\n",
       "      <th>smoothness_worst</th>\n",
       "      <th>concavity_worst</th>\n",
       "      <th>symmetry_worst</th>\n",
       "      <th>fractal_dimension_worst</th>\n",
       "    </tr>\n",
       "  </thead>\n",
       "  <tbody>\n",
       "    <tr>\n",
       "      <th>0</th>\n",
       "      <td>M</td>\n",
       "      <td>10.38</td>\n",
       "      <td>1001.0</td>\n",
       "      <td>0.11840</td>\n",
       "      <td>0.3001</td>\n",
       "      <td>0.2419</td>\n",
       "      <td>0.07871</td>\n",
       "      <td>0.9053</td>\n",
       "      <td>153.40</td>\n",
       "      <td>0.006399</td>\n",
       "      <td>0.05373</td>\n",
       "      <td>0.03003</td>\n",
       "      <td>0.006193</td>\n",
       "      <td>0.1622</td>\n",
       "      <td>0.7119</td>\n",
       "      <td>0.4601</td>\n",
       "      <td>0.11890</td>\n",
       "    </tr>\n",
       "    <tr>\n",
       "      <th>1</th>\n",
       "      <td>M</td>\n",
       "      <td>17.77</td>\n",
       "      <td>1326.0</td>\n",
       "      <td>0.08474</td>\n",
       "      <td>0.0869</td>\n",
       "      <td>0.1812</td>\n",
       "      <td>0.05667</td>\n",
       "      <td>0.7339</td>\n",
       "      <td>74.08</td>\n",
       "      <td>0.005225</td>\n",
       "      <td>0.01860</td>\n",
       "      <td>0.01389</td>\n",
       "      <td>0.003532</td>\n",
       "      <td>0.1238</td>\n",
       "      <td>0.2416</td>\n",
       "      <td>0.2750</td>\n",
       "      <td>0.08902</td>\n",
       "    </tr>\n",
       "    <tr>\n",
       "      <th>2</th>\n",
       "      <td>M</td>\n",
       "      <td>21.25</td>\n",
       "      <td>1203.0</td>\n",
       "      <td>0.10960</td>\n",
       "      <td>0.1974</td>\n",
       "      <td>0.2069</td>\n",
       "      <td>0.05999</td>\n",
       "      <td>0.7869</td>\n",
       "      <td>94.03</td>\n",
       "      <td>0.006150</td>\n",
       "      <td>0.03832</td>\n",
       "      <td>0.02250</td>\n",
       "      <td>0.004571</td>\n",
       "      <td>0.1444</td>\n",
       "      <td>0.4504</td>\n",
       "      <td>0.3613</td>\n",
       "      <td>0.08758</td>\n",
       "    </tr>\n",
       "    <tr>\n",
       "      <th>3</th>\n",
       "      <td>M</td>\n",
       "      <td>20.38</td>\n",
       "      <td>386.1</td>\n",
       "      <td>0.14250</td>\n",
       "      <td>0.2414</td>\n",
       "      <td>0.2597</td>\n",
       "      <td>0.09744</td>\n",
       "      <td>1.1560</td>\n",
       "      <td>27.23</td>\n",
       "      <td>0.009110</td>\n",
       "      <td>0.05661</td>\n",
       "      <td>0.05963</td>\n",
       "      <td>0.009208</td>\n",
       "      <td>0.2098</td>\n",
       "      <td>0.6869</td>\n",
       "      <td>0.6638</td>\n",
       "      <td>0.17300</td>\n",
       "    </tr>\n",
       "    <tr>\n",
       "      <th>4</th>\n",
       "      <td>M</td>\n",
       "      <td>14.34</td>\n",
       "      <td>1297.0</td>\n",
       "      <td>0.10030</td>\n",
       "      <td>0.1980</td>\n",
       "      <td>0.1809</td>\n",
       "      <td>0.05883</td>\n",
       "      <td>0.7813</td>\n",
       "      <td>94.44</td>\n",
       "      <td>0.011490</td>\n",
       "      <td>0.05688</td>\n",
       "      <td>0.01756</td>\n",
       "      <td>0.005115</td>\n",
       "      <td>0.1374</td>\n",
       "      <td>0.4000</td>\n",
       "      <td>0.2364</td>\n",
       "      <td>0.07678</td>\n",
       "    </tr>\n",
       "  </tbody>\n",
       "</table>\n",
       "</div>"
      ],
      "text/plain": [
       "  diagnosis  texture_mean  area_mean  smoothness_mean  concavity_mean  \\\n",
       "0         M         10.38     1001.0          0.11840          0.3001   \n",
       "1         M         17.77     1326.0          0.08474          0.0869   \n",
       "2         M         21.25     1203.0          0.10960          0.1974   \n",
       "3         M         20.38      386.1          0.14250          0.2414   \n",
       "4         M         14.34     1297.0          0.10030          0.1980   \n",
       "\n",
       "   symmetry_mean  fractal_dimension_mean  texture_se  area_se  smoothness_se  \\\n",
       "0         0.2419                 0.07871      0.9053   153.40       0.006399   \n",
       "1         0.1812                 0.05667      0.7339    74.08       0.005225   \n",
       "2         0.2069                 0.05999      0.7869    94.03       0.006150   \n",
       "3         0.2597                 0.09744      1.1560    27.23       0.009110   \n",
       "4         0.1809                 0.05883      0.7813    94.44       0.011490   \n",
       "\n",
       "   concavity_se  symmetry_se  fractal_dimension_se  smoothness_worst  \\\n",
       "0       0.05373      0.03003              0.006193            0.1622   \n",
       "1       0.01860      0.01389              0.003532            0.1238   \n",
       "2       0.03832      0.02250              0.004571            0.1444   \n",
       "3       0.05661      0.05963              0.009208            0.2098   \n",
       "4       0.05688      0.01756              0.005115            0.1374   \n",
       "\n",
       "   concavity_worst  symmetry_worst  fractal_dimension_worst  \n",
       "0           0.7119          0.4601                  0.11890  \n",
       "1           0.2416          0.2750                  0.08902  \n",
       "2           0.4504          0.3613                  0.08758  \n",
       "3           0.6869          0.6638                  0.17300  \n",
       "4           0.4000          0.2364                  0.07678  "
      ]
     },
     "execution_count": 3,
     "metadata": {},
     "output_type": "execute_result"
    }
   ],
   "source": [
    "df.head(5)"
   ]
  },
  {
   "cell_type": "code",
   "execution_count": 4,
   "metadata": {},
   "outputs": [
    {
     "name": "stdout",
     "output_type": "stream",
     "text": [
      "<class 'pandas.core.frame.DataFrame'>\n",
      "RangeIndex: 569 entries, 0 to 568\n",
      "Data columns (total 17 columns):\n",
      " #   Column                   Non-Null Count  Dtype  \n",
      "---  ------                   --------------  -----  \n",
      " 0   diagnosis                569 non-null    object \n",
      " 1   texture_mean             569 non-null    float64\n",
      " 2   area_mean                569 non-null    float64\n",
      " 3   smoothness_mean          569 non-null    float64\n",
      " 4   concavity_mean           569 non-null    float64\n",
      " 5   symmetry_mean            569 non-null    float64\n",
      " 6   fractal_dimension_mean   569 non-null    float64\n",
      " 7   texture_se               569 non-null    float64\n",
      " 8   area_se                  569 non-null    float64\n",
      " 9   smoothness_se            569 non-null    float64\n",
      " 10  concavity_se             569 non-null    float64\n",
      " 11  symmetry_se              569 non-null    float64\n",
      " 12  fractal_dimension_se     569 non-null    float64\n",
      " 13  smoothness_worst         569 non-null    float64\n",
      " 14  concavity_worst          569 non-null    float64\n",
      " 15  symmetry_worst           569 non-null    float64\n",
      " 16  fractal_dimension_worst  569 non-null    float64\n",
      "dtypes: float64(16), object(1)\n",
      "memory usage: 75.7+ KB\n"
     ]
    }
   ],
   "source": [
    "df.info()"
   ]
  },
  {
   "cell_type": "code",
   "execution_count": 5,
   "metadata": {},
   "outputs": [
    {
     "data": {
      "text/html": [
       "<div>\n",
       "<style scoped>\n",
       "    .dataframe tbody tr th:only-of-type {\n",
       "        vertical-align: middle;\n",
       "    }\n",
       "\n",
       "    .dataframe tbody tr th {\n",
       "        vertical-align: top;\n",
       "    }\n",
       "\n",
       "    .dataframe thead th {\n",
       "        text-align: right;\n",
       "    }\n",
       "</style>\n",
       "<table border=\"1\" class=\"dataframe\">\n",
       "  <thead>\n",
       "    <tr style=\"text-align: right;\">\n",
       "      <th></th>\n",
       "      <th>diagnosis</th>\n",
       "      <th>texture_mean</th>\n",
       "      <th>area_mean</th>\n",
       "      <th>smoothness_mean</th>\n",
       "      <th>concavity_mean</th>\n",
       "      <th>symmetry_mean</th>\n",
       "      <th>fractal_dimension_mean</th>\n",
       "      <th>texture_se</th>\n",
       "      <th>area_se</th>\n",
       "      <th>smoothness_se</th>\n",
       "      <th>concavity_se</th>\n",
       "      <th>symmetry_se</th>\n",
       "      <th>fractal_dimension_se</th>\n",
       "      <th>smoothness_worst</th>\n",
       "      <th>concavity_worst</th>\n",
       "      <th>symmetry_worst</th>\n",
       "      <th>fractal_dimension_worst</th>\n",
       "    </tr>\n",
       "  </thead>\n",
       "  <tbody>\n",
       "    <tr>\n",
       "      <th>0</th>\n",
       "      <td>M</td>\n",
       "      <td>10.38</td>\n",
       "      <td>1001.0</td>\n",
       "      <td>0.11840</td>\n",
       "      <td>0.3001</td>\n",
       "      <td>0.2419</td>\n",
       "      <td>0.07871</td>\n",
       "      <td>0.9053</td>\n",
       "      <td>153.40</td>\n",
       "      <td>0.006399</td>\n",
       "      <td>0.05373</td>\n",
       "      <td>0.03003</td>\n",
       "      <td>0.006193</td>\n",
       "      <td>0.1622</td>\n",
       "      <td>0.7119</td>\n",
       "      <td>0.4601</td>\n",
       "      <td>0.11890</td>\n",
       "    </tr>\n",
       "    <tr>\n",
       "      <th>1</th>\n",
       "      <td>M</td>\n",
       "      <td>17.77</td>\n",
       "      <td>1326.0</td>\n",
       "      <td>0.08474</td>\n",
       "      <td>0.0869</td>\n",
       "      <td>0.1812</td>\n",
       "      <td>0.05667</td>\n",
       "      <td>0.7339</td>\n",
       "      <td>74.08</td>\n",
       "      <td>0.005225</td>\n",
       "      <td>0.01860</td>\n",
       "      <td>0.01389</td>\n",
       "      <td>0.003532</td>\n",
       "      <td>0.1238</td>\n",
       "      <td>0.2416</td>\n",
       "      <td>0.2750</td>\n",
       "      <td>0.08902</td>\n",
       "    </tr>\n",
       "    <tr>\n",
       "      <th>2</th>\n",
       "      <td>M</td>\n",
       "      <td>21.25</td>\n",
       "      <td>1203.0</td>\n",
       "      <td>0.10960</td>\n",
       "      <td>0.1974</td>\n",
       "      <td>0.2069</td>\n",
       "      <td>0.05999</td>\n",
       "      <td>0.7869</td>\n",
       "      <td>94.03</td>\n",
       "      <td>0.006150</td>\n",
       "      <td>0.03832</td>\n",
       "      <td>0.02250</td>\n",
       "      <td>0.004571</td>\n",
       "      <td>0.1444</td>\n",
       "      <td>0.4504</td>\n",
       "      <td>0.3613</td>\n",
       "      <td>0.08758</td>\n",
       "    </tr>\n",
       "    <tr>\n",
       "      <th>3</th>\n",
       "      <td>M</td>\n",
       "      <td>20.38</td>\n",
       "      <td>386.1</td>\n",
       "      <td>0.14250</td>\n",
       "      <td>0.2414</td>\n",
       "      <td>0.2597</td>\n",
       "      <td>0.09744</td>\n",
       "      <td>1.1560</td>\n",
       "      <td>27.23</td>\n",
       "      <td>0.009110</td>\n",
       "      <td>0.05661</td>\n",
       "      <td>0.05963</td>\n",
       "      <td>0.009208</td>\n",
       "      <td>0.2098</td>\n",
       "      <td>0.6869</td>\n",
       "      <td>0.6638</td>\n",
       "      <td>0.17300</td>\n",
       "    </tr>\n",
       "    <tr>\n",
       "      <th>4</th>\n",
       "      <td>M</td>\n",
       "      <td>14.34</td>\n",
       "      <td>1297.0</td>\n",
       "      <td>0.10030</td>\n",
       "      <td>0.1980</td>\n",
       "      <td>0.1809</td>\n",
       "      <td>0.05883</td>\n",
       "      <td>0.7813</td>\n",
       "      <td>94.44</td>\n",
       "      <td>0.011490</td>\n",
       "      <td>0.05688</td>\n",
       "      <td>0.01756</td>\n",
       "      <td>0.005115</td>\n",
       "      <td>0.1374</td>\n",
       "      <td>0.4000</td>\n",
       "      <td>0.2364</td>\n",
       "      <td>0.07678</td>\n",
       "    </tr>\n",
       "  </tbody>\n",
       "</table>\n",
       "</div>"
      ],
      "text/plain": [
       "  diagnosis  texture_mean  area_mean  smoothness_mean  concavity_mean  \\\n",
       "0         M         10.38     1001.0          0.11840          0.3001   \n",
       "1         M         17.77     1326.0          0.08474          0.0869   \n",
       "2         M         21.25     1203.0          0.10960          0.1974   \n",
       "3         M         20.38      386.1          0.14250          0.2414   \n",
       "4         M         14.34     1297.0          0.10030          0.1980   \n",
       "\n",
       "   symmetry_mean  fractal_dimension_mean  texture_se  area_se  smoothness_se  \\\n",
       "0         0.2419                 0.07871      0.9053   153.40       0.006399   \n",
       "1         0.1812                 0.05667      0.7339    74.08       0.005225   \n",
       "2         0.2069                 0.05999      0.7869    94.03       0.006150   \n",
       "3         0.2597                 0.09744      1.1560    27.23       0.009110   \n",
       "4         0.1809                 0.05883      0.7813    94.44       0.011490   \n",
       "\n",
       "   concavity_se  symmetry_se  fractal_dimension_se  smoothness_worst  \\\n",
       "0       0.05373      0.03003              0.006193            0.1622   \n",
       "1       0.01860      0.01389              0.003532            0.1238   \n",
       "2       0.03832      0.02250              0.004571            0.1444   \n",
       "3       0.05661      0.05963              0.009208            0.2098   \n",
       "4       0.05688      0.01756              0.005115            0.1374   \n",
       "\n",
       "   concavity_worst  symmetry_worst  fractal_dimension_worst  \n",
       "0           0.7119          0.4601                  0.11890  \n",
       "1           0.2416          0.2750                  0.08902  \n",
       "2           0.4504          0.3613                  0.08758  \n",
       "3           0.6869          0.6638                  0.17300  \n",
       "4           0.4000          0.2364                  0.07678  "
      ]
     },
     "execution_count": 5,
     "metadata": {},
     "output_type": "execute_result"
    }
   ],
   "source": [
    "df.head()"
   ]
  },
  {
   "cell_type": "markdown",
   "metadata": {},
   "source": [
    "# Encoding\n",
    "The second feature ‘diagnosis’ is binary and categorical with the values ‘B’ for Benign and ‘M’ for Malignant. \n",
    "The variable will be the label for supervised learning problem and the values will be encoded to 0 and 1 respectively for the training. "
   ]
  },
  {
   "cell_type": "code",
   "execution_count": 6,
   "metadata": {},
   "outputs": [],
   "source": [
    "df['diagnosis']=df['diagnosis'].map({'B':0,'M':1})"
   ]
  },
  {
   "cell_type": "code",
   "execution_count": 7,
   "metadata": {},
   "outputs": [
    {
     "data": {
      "image/png": "[encoded data removed]",
      "text/plain": [
       "<Figure size 432x288 with 1 Axes>"
      ]
     },
     "metadata": {
      "needs_background": "light"
     },
     "output_type": "display_data"
    }
   ],
   "source": [
    "df[\"diagnosis\"].value_counts(normalize=True).plot(kind='bar')\n",
    "plt.show()"
   ]
  },
  {
   "cell_type": "markdown",
   "metadata": {},
   "source": [
    "# Train_Test_Split= 70/30"
   ]
  },
  {
   "cell_type": "code",
   "execution_count": 8,
   "metadata": {},
   "outputs": [],
   "source": [
    "X= df.drop(\"diagnosis\",axis=1)\n",
    "y= df[\"diagnosis\"]\n",
    "\n",
    "from sklearn.model_selection import train_test_split\n",
    "X_train,X_test,y_train,y_test=train_test_split(X,y,test_size=0.3,random_state=1)"
   ]
  },
  {
   "cell_type": "markdown",
   "metadata": {},
   "source": [
    "## KNN Classifier\n"
   ]
  },
  {
   "cell_type": "markdown",
   "metadata": {},
   "source": [
    "# Since KNN is a distance based Algorithm- we need to do standardization of values"
   ]
  },
  {
   "cell_type": "code",
   "execution_count": 10,
   "metadata": {},
   "outputs": [],
   "source": [
    "from sklearn.preprocessing import StandardScaler\n",
    "sc = StandardScaler()\n",
    "X_train = sc.fit_transform(X_train)\n",
    "X_test = sc.transform(X_test)"
   ]
  },
  {
   "cell_type": "code",
   "execution_count": 11,
   "metadata": {},
   "outputs": [
    {
     "name": "stdout",
     "output_type": "stream",
     "text": [
      "---0.001993417739868164 seconds ---\n",
      "0.9649122807017544\n"
     ]
    }
   ],
   "source": [
    "from sklearn.neighbors import KNeighborsClassifier\n",
    "\n",
    "clf = KNeighborsClassifier(n_neighbors=3) \n",
    "\n",
    "start_time=time.time()\n",
    "\n",
    "clf.fit(X_train, y_train)\n",
    "\n",
    "end_time=time.time()\n",
    "\n",
    "print(\"---%s seconds ---\" % (end_time - start_time))\n",
    "\n",
    "print(clf.score(X_test, y_test))"
   ]
  },
  {
   "cell_type": "markdown",
   "metadata": {},
   "source": [
    "# Import Metrics and Matrix Libraries"
   ]
  },
  {
   "cell_type": "code",
   "execution_count": 12,
   "metadata": {},
   "outputs": [],
   "source": [
    "from sklearn.metrics import accuracy_score,classification_report,confusion_matrix,roc_auc_score"
   ]
  },
  {
   "cell_type": "code",
   "execution_count": 13,
   "metadata": {},
   "outputs": [
    {
     "name": "stdout",
     "output_type": "stream",
     "text": [
      "Accuracy Score of train 0.9773869346733668\n",
      "AUC of the train  0.9973585617638339\n",
      " confusion matrix \n",
      " [[247   2]\n",
      " [  7 142]]\n"
     ]
    }
   ],
   "source": [
    "# Validating the train on the model\n",
    "y_train_pred =clf.predict(X_train)\n",
    "y_train_prob =clf.predict_proba(X_train)[:,1]\n",
    "\n",
    "print(\"Accuracy Score of train\", accuracy_score(y_train,y_train_pred))\n",
    "print(\"AUC of the train \", roc_auc_score(y_train,y_train_prob))\n",
    "print(\" confusion matrix \\n\" , confusion_matrix(y_train,y_train_pred))"
   ]
  },
  {
   "cell_type": "code",
   "execution_count": 14,
   "metadata": {},
   "outputs": [
    {
     "name": "stdout",
     "output_type": "stream",
     "text": [
      "Accuracy Score of test 0.9649122807017544\n",
      "AUC of the test  0.9894179894179895\n",
      " confusion matrix \n",
      " [[105   3]\n",
      " [  3  60]]\n"
     ]
    }
   ],
   "source": [
    "# Model on Test data \n",
    "y_test_pred =clf.predict(X_test)\n",
    "y_test_prob =clf.predict_proba(X_test)[:,1]\n",
    "\n",
    "print(\"Accuracy Score of test\", accuracy_score(y_test,y_test_pred))\n",
    "print(\"AUC of the test \", roc_auc_score(y_test,y_test_prob))\n",
    "print(\" confusion matrix \\n\" , confusion_matrix(y_test,y_test_pred))"
   ]
  },
  {
   "cell_type": "code",
   "execution_count": 15,
   "metadata": {},
   "outputs": [
    {
     "name": "stdout",
     "output_type": "stream",
     "text": [
      "              precision    recall  f1-score   support\n",
      "\n",
      "           0       0.97      0.97      0.97       108\n",
      "           1       0.95      0.95      0.95        63\n",
      "\n",
      "    accuracy                           0.96       171\n",
      "   macro avg       0.96      0.96      0.96       171\n",
      "weighted avg       0.96      0.96      0.96       171\n",
      "\n"
     ]
    }
   ],
   "source": [
    "from sklearn.metrics import classification_report\n",
    "\n",
    "print(classification_report(y_test,y_test_pred)) "
   ]
  },
  {
   "cell_type": "markdown",
   "metadata": {},
   "source": [
    "# Classification Rate/Accuracy(Manual Calculation to cross-check against classification_report):\n",
    "\n",
    "TN= 108, FP=0,\n",
    "FN= 6, TP=57\n",
    "\n",
    "Accuracy = (TP + TN) / (TP + TN + FP + FN)\n",
    "\n",
    "Recall: Recall gives us an idea about when it’s actually yes, how often does it predict yes.\n",
    "Recall = TP / (TP + FN) = 100 / (100 + 5) = 0.95\n",
    "\n",
    "Precision: Precsion tells us about when it predicts yes, how often is it correct.\n",
    "Precision = TP / (TP + FP)=100/ (100+10) = 0.91\n",
    "\n",
    "F-measure:\n",
    "Fmeasure = (2 * Recall * Precision) / (Recall + Presision) = (2 * 0.95 * 0.91) / (0.91 + 0.95) = 0.92"
   ]
  },
  {
   "cell_type": "code",
   "execution_count": 16,
   "metadata": {},
   "outputs": [
    {
     "name": "stdout",
     "output_type": "stream",
     "text": [
      "Accuracy 0.9649122807017544\n",
      "Recall 0.9047619047619048\n",
      "Precision 1.0\n",
      "F-Measure 0.9500000000000001\n",
      "Error rate is 0.03508771929824561\n"
     ]
    }
   ],
   "source": [
    "#Shermaine- cross verified with data from classification report in In[29]\n",
    "TN= 108\n",
    "FP=0\n",
    "FN= 6\n",
    "TP=57\n",
    "TOTAL= 171 #n\n",
    "\n",
    "Accuracy = (TP + TN) / (TP + TN + FP + FN)\n",
    "\n",
    "print(\"Accuracy\", Accuracy)\n",
    "\n",
    "#ecall: Recall gives us an idea about when it’s actually yes, how often does it predict yes.\n",
    "Recall = TP / (TP + FN)\n",
    "print(\"Recall\", Recall)\n",
    "\n",
    "#Precision: Precsion tells us about when it predicts yes, how often is it correct.\n",
    "Precision = TP / (TP + FP)\n",
    "print(\"Precision\", Precision)\n",
    "\n",
    "F_measure = (2 * Recall * Precision) / (Recall + Precision)\n",
    "print(\"F-Measure\", F_measure)\n",
    "\n",
    "#Misclassification Rate: Overall, how often is it wrong?\n",
    "Misclassification_Rate=(FP+FN)/TOTAL\n",
    "print(\"Error rate is\",Misclassification_Rate)\n",
    "#equivalent to 1 minus Accuracy\n",
    "#also known as \"Error Rate\"\n",
    "# https://www.dataschool.io/simple-guide-to-confusion-matrix-terminology/"
   ]
  },
  {
   "cell_type": "code",
   "execution_count": 17,
   "metadata": {},
   "outputs": [
    {
     "data": {
      "image/png": "[encoded data removed]",
      "text/plain": [
       "<Figure size 432x288 with 1 Axes>"
      ]
     },
     "metadata": {
      "needs_background": "light"
     },
     "output_type": "display_data"
    }
   ],
   "source": [
    "#Find Optimum K value\n",
    "scores = []\n",
    "for each in range(1,15):\n",
    "    KNNfind = KNeighborsClassifier(n_neighbors = each)\n",
    "    KNNfind.fit(X_train,y_train)\n",
    "    scores.append(KNNfind.score(X_test,y_test))\n",
    "    \n",
    "plt.plot(range(1,15),scores,color=\"black\")\n",
    "plt.xlabel(\"K Values\")\n",
    "plt.ylabel(\"Score(Accuracy)\")\n",
    "plt.show()"
   ]
  }
 ],
 "metadata": {
  "kernelspec": {
   "display_name": "Python 3",
   "language": "python",
   "name": "python3"
  },
  "language_info": {
   "codemirror_mode": {
    "name": "ipython",
    "version": 3
   },
   "file_extension": ".py",
   "mimetype": "text/x-python",
   "name": "python",
   "nbconvert_exporter": "python",
   "pygments_lexer": "ipython3",
   "version": "3.8.2"
  }
 },
 "nbformat": 4,
 "nbformat_minor": 4
}
