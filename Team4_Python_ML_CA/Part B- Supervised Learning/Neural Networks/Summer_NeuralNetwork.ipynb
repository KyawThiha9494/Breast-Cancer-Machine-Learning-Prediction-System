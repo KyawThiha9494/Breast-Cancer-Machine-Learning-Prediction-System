{
 "cells": [
  {
   "cell_type": "markdown",
   "metadata": {},
   "source": [
    "## We work with original 30 features and 1 label named “Diagnosis”\n",
    "## Firstly, we import all neccessary libraries"
   ]
  },
  {
   "cell_type": "code",
   "execution_count": 1,
   "metadata": {},
   "outputs": [],
   "source": [
    "import numpy as np\n",
    "import pandas as pd\n",
    "import matplotlib.pyplot as plt\n",
    "from tensorflow.keras.utils import to_categorical\n",
    "from tensorflow.keras.models import Sequential\n",
    "from tensorflow.keras.layers import Conv2D, Dense, Flatten, MaxPooling2D"
   ]
  },
  {
   "cell_type": "code",
   "execution_count": 2,
   "metadata": {},
   "outputs": [],
   "source": [
    "df = pd.read_csv(\"BreastCancerData.csv\")"
   ]
  },
  {
   "cell_type": "code",
   "execution_count": 3,
   "metadata": {},
   "outputs": [],
   "source": [
    "df = df.drop(columns =[\"id\"])"
   ]
  },
  {
   "cell_type": "code",
   "execution_count": 4,
   "metadata": {},
   "outputs": [
    {
     "data": {
      "text/html": [
       "<div>\n",
       "<style scoped>\n",
       "    .dataframe tbody tr th:only-of-type {\n",
       "        vertical-align: middle;\n",
       "    }\n",
       "\n",
       "    .dataframe tbody tr th {\n",
       "        vertical-align: top;\n",
       "    }\n",
       "\n",
       "    .dataframe thead th {\n",
       "        text-align: right;\n",
       "    }\n",
       "</style>\n",
       "<table border=\"1\" class=\"dataframe\">\n",
       "  <thead>\n",
       "    <tr style=\"text-align: right;\">\n",
       "      <th></th>\n",
       "      <th>diagnosis</th>\n",
       "      <th>radius_mean</th>\n",
       "      <th>texture_mean</th>\n",
       "      <th>perimeter_mean</th>\n",
       "      <th>area_mean</th>\n",
       "      <th>smoothness_mean</th>\n",
       "      <th>compactness_mean</th>\n",
       "      <th>concavity_mean</th>\n",
       "      <th>concave points_mean</th>\n",
       "      <th>symmetry_mean</th>\n",
       "      <th>...</th>\n",
       "      <th>radius_worst</th>\n",
       "      <th>texture_worst</th>\n",
       "      <th>perimeter_worst</th>\n",
       "      <th>area_worst</th>\n",
       "      <th>smoothness_worst</th>\n",
       "      <th>compactness_worst</th>\n",
       "      <th>concavity_worst</th>\n",
       "      <th>concave points_worst</th>\n",
       "      <th>symmetry_worst</th>\n",
       "      <th>fractal_dimension_worst</th>\n",
       "    </tr>\n",
       "  </thead>\n",
       "  <tbody>\n",
       "    <tr>\n",
       "      <th>564</th>\n",
       "      <td>M</td>\n",
       "      <td>21.56</td>\n",
       "      <td>22.39</td>\n",
       "      <td>142.00</td>\n",
       "      <td>1479.0</td>\n",
       "      <td>0.11100</td>\n",
       "      <td>0.11590</td>\n",
       "      <td>0.24390</td>\n",
       "      <td>0.13890</td>\n",
       "      <td>0.1726</td>\n",
       "      <td>...</td>\n",
       "      <td>25.450</td>\n",
       "      <td>26.40</td>\n",
       "      <td>166.10</td>\n",
       "      <td>2027.0</td>\n",
       "      <td>0.14100</td>\n",
       "      <td>0.21130</td>\n",
       "      <td>0.4107</td>\n",
       "      <td>0.2216</td>\n",
       "      <td>0.2060</td>\n",
       "      <td>0.07115</td>\n",
       "    </tr>\n",
       "    <tr>\n",
       "      <th>565</th>\n",
       "      <td>M</td>\n",
       "      <td>20.13</td>\n",
       "      <td>28.25</td>\n",
       "      <td>131.20</td>\n",
       "      <td>1261.0</td>\n",
       "      <td>0.09780</td>\n",
       "      <td>0.10340</td>\n",
       "      <td>0.14400</td>\n",
       "      <td>0.09791</td>\n",
       "      <td>0.1752</td>\n",
       "      <td>...</td>\n",
       "      <td>23.690</td>\n",
       "      <td>38.25</td>\n",
       "      <td>155.00</td>\n",
       "      <td>1731.0</td>\n",
       "      <td>0.11660</td>\n",
       "      <td>0.19220</td>\n",
       "      <td>0.3215</td>\n",
       "      <td>0.1628</td>\n",
       "      <td>0.2572</td>\n",
       "      <td>0.06637</td>\n",
       "    </tr>\n",
       "    <tr>\n",
       "      <th>566</th>\n",
       "      <td>M</td>\n",
       "      <td>16.60</td>\n",
       "      <td>28.08</td>\n",
       "      <td>108.30</td>\n",
       "      <td>858.1</td>\n",
       "      <td>0.08455</td>\n",
       "      <td>0.10230</td>\n",
       "      <td>0.09251</td>\n",
       "      <td>0.05302</td>\n",
       "      <td>0.1590</td>\n",
       "      <td>...</td>\n",
       "      <td>18.980</td>\n",
       "      <td>34.12</td>\n",
       "      <td>126.70</td>\n",
       "      <td>1124.0</td>\n",
       "      <td>0.11390</td>\n",
       "      <td>0.30940</td>\n",
       "      <td>0.3403</td>\n",
       "      <td>0.1418</td>\n",
       "      <td>0.2218</td>\n",
       "      <td>0.07820</td>\n",
       "    </tr>\n",
       "    <tr>\n",
       "      <th>567</th>\n",
       "      <td>M</td>\n",
       "      <td>20.60</td>\n",
       "      <td>29.33</td>\n",
       "      <td>140.10</td>\n",
       "      <td>1265.0</td>\n",
       "      <td>0.11780</td>\n",
       "      <td>0.27700</td>\n",
       "      <td>0.35140</td>\n",
       "      <td>0.15200</td>\n",
       "      <td>0.2397</td>\n",
       "      <td>...</td>\n",
       "      <td>25.740</td>\n",
       "      <td>39.42</td>\n",
       "      <td>184.60</td>\n",
       "      <td>1821.0</td>\n",
       "      <td>0.16500</td>\n",
       "      <td>0.86810</td>\n",
       "      <td>0.9387</td>\n",
       "      <td>0.2650</td>\n",
       "      <td>0.4087</td>\n",
       "      <td>0.12400</td>\n",
       "    </tr>\n",
       "    <tr>\n",
       "      <th>568</th>\n",
       "      <td>B</td>\n",
       "      <td>7.76</td>\n",
       "      <td>24.54</td>\n",
       "      <td>47.92</td>\n",
       "      <td>181.0</td>\n",
       "      <td>0.05263</td>\n",
       "      <td>0.04362</td>\n",
       "      <td>0.00000</td>\n",
       "      <td>0.00000</td>\n",
       "      <td>0.1587</td>\n",
       "      <td>...</td>\n",
       "      <td>9.456</td>\n",
       "      <td>30.37</td>\n",
       "      <td>59.16</td>\n",
       "      <td>268.6</td>\n",
       "      <td>0.08996</td>\n",
       "      <td>0.06444</td>\n",
       "      <td>0.0000</td>\n",
       "      <td>0.0000</td>\n",
       "      <td>0.2871</td>\n",
       "      <td>0.07039</td>\n",
       "    </tr>\n",
       "  </tbody>\n",
       "</table>\n",
       "<p>5 rows × 31 columns</p>\n",
       "</div>"
      ],
      "text/plain": [
       "    diagnosis  radius_mean  texture_mean  perimeter_mean  area_mean  \\\n",
       "564         M        21.56         22.39          142.00     1479.0   \n",
       "565         M        20.13         28.25          131.20     1261.0   \n",
       "566         M        16.60         28.08          108.30      858.1   \n",
       "567         M        20.60         29.33          140.10     1265.0   \n",
       "568         B         7.76         24.54           47.92      181.0   \n",
       "\n",
       "     smoothness_mean  compactness_mean  concavity_mean  concave points_mean  \\\n",
       "564          0.11100           0.11590         0.24390              0.13890   \n",
       "565          0.09780           0.10340         0.14400              0.09791   \n",
       "566          0.08455           0.10230         0.09251              0.05302   \n",
       "567          0.11780           0.27700         0.35140              0.15200   \n",
       "568          0.05263           0.04362         0.00000              0.00000   \n",
       "\n",
       "     symmetry_mean  ...  radius_worst  texture_worst  perimeter_worst  \\\n",
       "564         0.1726  ...        25.450          26.40           166.10   \n",
       "565         0.1752  ...        23.690          38.25           155.00   \n",
       "566         0.1590  ...        18.980          34.12           126.70   \n",
       "567         0.2397  ...        25.740          39.42           184.60   \n",
       "568         0.1587  ...         9.456          30.37            59.16   \n",
       "\n",
       "     area_worst  smoothness_worst  compactness_worst  concavity_worst  \\\n",
       "564      2027.0           0.14100            0.21130           0.4107   \n",
       "565      1731.0           0.11660            0.19220           0.3215   \n",
       "566      1124.0           0.11390            0.30940           0.3403   \n",
       "567      1821.0           0.16500            0.86810           0.9387   \n",
       "568       268.6           0.08996            0.06444           0.0000   \n",
       "\n",
       "     concave points_worst  symmetry_worst  fractal_dimension_worst  \n",
       "564                0.2216          0.2060                  0.07115  \n",
       "565                0.1628          0.2572                  0.06637  \n",
       "566                0.1418          0.2218                  0.07820  \n",
       "567                0.2650          0.4087                  0.12400  \n",
       "568                0.0000          0.2871                  0.07039  \n",
       "\n",
       "[5 rows x 31 columns]"
      ]
     },
     "execution_count": 4,
     "metadata": {},
     "output_type": "execute_result"
    }
   ],
   "source": [
    "df.tail()"
   ]
  },
  {
   "cell_type": "code",
   "execution_count": 5,
   "metadata": {},
   "outputs": [],
   "source": [
    "df1 = df.replace(to_replace =[\"M\",\"B\"],value=[1,0])"
   ]
  },
  {
   "cell_type": "code",
   "execution_count": 6,
   "metadata": {
    "scrolled": true
   },
   "outputs": [
    {
     "data": {
      "text/html": [
       "<div>\n",
       "<style scoped>\n",
       "    .dataframe tbody tr th:only-of-type {\n",
       "        vertical-align: middle;\n",
       "    }\n",
       "\n",
       "    .dataframe tbody tr th {\n",
       "        vertical-align: top;\n",
       "    }\n",
       "\n",
       "    .dataframe thead th {\n",
       "        text-align: right;\n",
       "    }\n",
       "</style>\n",
       "<table border=\"1\" class=\"dataframe\">\n",
       "  <thead>\n",
       "    <tr style=\"text-align: right;\">\n",
       "      <th></th>\n",
       "      <th>diagnosis</th>\n",
       "      <th>radius_mean</th>\n",
       "      <th>texture_mean</th>\n",
       "      <th>perimeter_mean</th>\n",
       "      <th>area_mean</th>\n",
       "      <th>smoothness_mean</th>\n",
       "      <th>compactness_mean</th>\n",
       "      <th>concavity_mean</th>\n",
       "      <th>concave points_mean</th>\n",
       "      <th>symmetry_mean</th>\n",
       "      <th>...</th>\n",
       "      <th>radius_worst</th>\n",
       "      <th>texture_worst</th>\n",
       "      <th>perimeter_worst</th>\n",
       "      <th>area_worst</th>\n",
       "      <th>smoothness_worst</th>\n",
       "      <th>compactness_worst</th>\n",
       "      <th>concavity_worst</th>\n",
       "      <th>concave points_worst</th>\n",
       "      <th>symmetry_worst</th>\n",
       "      <th>fractal_dimension_worst</th>\n",
       "    </tr>\n",
       "  </thead>\n",
       "  <tbody>\n",
       "    <tr>\n",
       "      <th>0</th>\n",
       "      <td>1</td>\n",
       "      <td>17.99</td>\n",
       "      <td>10.38</td>\n",
       "      <td>122.80</td>\n",
       "      <td>1001.0</td>\n",
       "      <td>0.11840</td>\n",
       "      <td>0.27760</td>\n",
       "      <td>0.3001</td>\n",
       "      <td>0.14710</td>\n",
       "      <td>0.2419</td>\n",
       "      <td>...</td>\n",
       "      <td>25.38</td>\n",
       "      <td>17.33</td>\n",
       "      <td>184.60</td>\n",
       "      <td>2019.0</td>\n",
       "      <td>0.1622</td>\n",
       "      <td>0.6656</td>\n",
       "      <td>0.7119</td>\n",
       "      <td>0.2654</td>\n",
       "      <td>0.4601</td>\n",
       "      <td>0.11890</td>\n",
       "    </tr>\n",
       "    <tr>\n",
       "      <th>1</th>\n",
       "      <td>1</td>\n",
       "      <td>20.57</td>\n",
       "      <td>17.77</td>\n",
       "      <td>132.90</td>\n",
       "      <td>1326.0</td>\n",
       "      <td>0.08474</td>\n",
       "      <td>0.07864</td>\n",
       "      <td>0.0869</td>\n",
       "      <td>0.07017</td>\n",
       "      <td>0.1812</td>\n",
       "      <td>...</td>\n",
       "      <td>24.99</td>\n",
       "      <td>23.41</td>\n",
       "      <td>158.80</td>\n",
       "      <td>1956.0</td>\n",
       "      <td>0.1238</td>\n",
       "      <td>0.1866</td>\n",
       "      <td>0.2416</td>\n",
       "      <td>0.1860</td>\n",
       "      <td>0.2750</td>\n",
       "      <td>0.08902</td>\n",
       "    </tr>\n",
       "    <tr>\n",
       "      <th>2</th>\n",
       "      <td>1</td>\n",
       "      <td>19.69</td>\n",
       "      <td>21.25</td>\n",
       "      <td>130.00</td>\n",
       "      <td>1203.0</td>\n",
       "      <td>0.10960</td>\n",
       "      <td>0.15990</td>\n",
       "      <td>0.1974</td>\n",
       "      <td>0.12790</td>\n",
       "      <td>0.2069</td>\n",
       "      <td>...</td>\n",
       "      <td>23.57</td>\n",
       "      <td>25.53</td>\n",
       "      <td>152.50</td>\n",
       "      <td>1709.0</td>\n",
       "      <td>0.1444</td>\n",
       "      <td>0.4245</td>\n",
       "      <td>0.4504</td>\n",
       "      <td>0.2430</td>\n",
       "      <td>0.3613</td>\n",
       "      <td>0.08758</td>\n",
       "    </tr>\n",
       "    <tr>\n",
       "      <th>3</th>\n",
       "      <td>1</td>\n",
       "      <td>11.42</td>\n",
       "      <td>20.38</td>\n",
       "      <td>77.58</td>\n",
       "      <td>386.1</td>\n",
       "      <td>0.14250</td>\n",
       "      <td>0.28390</td>\n",
       "      <td>0.2414</td>\n",
       "      <td>0.10520</td>\n",
       "      <td>0.2597</td>\n",
       "      <td>...</td>\n",
       "      <td>14.91</td>\n",
       "      <td>26.50</td>\n",
       "      <td>98.87</td>\n",
       "      <td>567.7</td>\n",
       "      <td>0.2098</td>\n",
       "      <td>0.8663</td>\n",
       "      <td>0.6869</td>\n",
       "      <td>0.2575</td>\n",
       "      <td>0.6638</td>\n",
       "      <td>0.17300</td>\n",
       "    </tr>\n",
       "    <tr>\n",
       "      <th>4</th>\n",
       "      <td>1</td>\n",
       "      <td>20.29</td>\n",
       "      <td>14.34</td>\n",
       "      <td>135.10</td>\n",
       "      <td>1297.0</td>\n",
       "      <td>0.10030</td>\n",
       "      <td>0.13280</td>\n",
       "      <td>0.1980</td>\n",
       "      <td>0.10430</td>\n",
       "      <td>0.1809</td>\n",
       "      <td>...</td>\n",
       "      <td>22.54</td>\n",
       "      <td>16.67</td>\n",
       "      <td>152.20</td>\n",
       "      <td>1575.0</td>\n",
       "      <td>0.1374</td>\n",
       "      <td>0.2050</td>\n",
       "      <td>0.4000</td>\n",
       "      <td>0.1625</td>\n",
       "      <td>0.2364</td>\n",
       "      <td>0.07678</td>\n",
       "    </tr>\n",
       "  </tbody>\n",
       "</table>\n",
       "<p>5 rows × 31 columns</p>\n",
       "</div>"
      ],
      "text/plain": [
       "   diagnosis  radius_mean  texture_mean  perimeter_mean  area_mean  \\\n",
       "0          1        17.99         10.38          122.80     1001.0   \n",
       "1          1        20.57         17.77          132.90     1326.0   \n",
       "2          1        19.69         21.25          130.00     1203.0   \n",
       "3          1        11.42         20.38           77.58      386.1   \n",
       "4          1        20.29         14.34          135.10     1297.0   \n",
       "\n",
       "   smoothness_mean  compactness_mean  concavity_mean  concave points_mean  \\\n",
       "0          0.11840           0.27760          0.3001              0.14710   \n",
       "1          0.08474           0.07864          0.0869              0.07017   \n",
       "2          0.10960           0.15990          0.1974              0.12790   \n",
       "3          0.14250           0.28390          0.2414              0.10520   \n",
       "4          0.10030           0.13280          0.1980              0.10430   \n",
       "\n",
       "   symmetry_mean  ...  radius_worst  texture_worst  perimeter_worst  \\\n",
       "0         0.2419  ...         25.38          17.33           184.60   \n",
       "1         0.1812  ...         24.99          23.41           158.80   \n",
       "2         0.2069  ...         23.57          25.53           152.50   \n",
       "3         0.2597  ...         14.91          26.50            98.87   \n",
       "4         0.1809  ...         22.54          16.67           152.20   \n",
       "\n",
       "   area_worst  smoothness_worst  compactness_worst  concavity_worst  \\\n",
       "0      2019.0            0.1622             0.6656           0.7119   \n",
       "1      1956.0            0.1238             0.1866           0.2416   \n",
       "2      1709.0            0.1444             0.4245           0.4504   \n",
       "3       567.7            0.2098             0.8663           0.6869   \n",
       "4      1575.0            0.1374             0.2050           0.4000   \n",
       "\n",
       "   concave points_worst  symmetry_worst  fractal_dimension_worst  \n",
       "0                0.2654          0.4601                  0.11890  \n",
       "1                0.1860          0.2750                  0.08902  \n",
       "2                0.2430          0.3613                  0.08758  \n",
       "3                0.2575          0.6638                  0.17300  \n",
       "4                0.1625          0.2364                  0.07678  \n",
       "\n",
       "[5 rows x 31 columns]"
      ]
     },
     "execution_count": 6,
     "metadata": {},
     "output_type": "execute_result"
    }
   ],
   "source": [
    "df1.head()"
   ]
  },
  {
   "cell_type": "code",
   "execution_count": 7,
   "metadata": {},
   "outputs": [
    {
     "data": {
      "text/plain": [
       "(569, 30)"
      ]
     },
     "execution_count": 7,
     "metadata": {},
     "output_type": "execute_result"
    }
   ],
   "source": [
    "x = df1.iloc[:,1:]\n",
    "x.shape"
   ]
  },
  {
   "cell_type": "code",
   "execution_count": 8,
   "metadata": {},
   "outputs": [],
   "source": [
    "y=df1[\"diagnosis\"]"
   ]
  },
  {
   "cell_type": "code",
   "execution_count": 9,
   "metadata": {},
   "outputs": [
    {
     "data": {
      "text/plain": [
       "(569,)"
      ]
     },
     "execution_count": 9,
     "metadata": {},
     "output_type": "execute_result"
    }
   ],
   "source": [
    "y.shape"
   ]
  },
  {
   "cell_type": "markdown",
   "metadata": {},
   "source": [
    "## We split 90% for training, 10% for testing"
   ]
  },
  {
   "cell_type": "code",
   "execution_count": 10,
   "metadata": {},
   "outputs": [
    {
     "name": "stdout",
     "output_type": "stream",
     "text": [
      "Train set: (512, 30) (512,)\n",
      "Test set: (57, 30) (57,)\n"
     ]
    }
   ],
   "source": [
    "from sklearn.model_selection import train_test_split\n",
    "x_train,x_test,y_train,y_test = train_test_split(x,y,test_size=0.1,random_state=42)\n",
    "print ('Train set:', x_train.shape,  y_train.shape)\n",
    "print ('Test set:', x_test.shape,  y_test.shape)"
   ]
  },
  {
   "cell_type": "markdown",
   "metadata": {},
   "source": [
    "## We fit the scaler on your training data only, then standardise both training and test sets with that scaler"
   ]
  },
  {
   "cell_type": "code",
   "execution_count": 11,
   "metadata": {},
   "outputs": [],
   "source": [
    "from sklearn.preprocessing import StandardScaler\n",
    "sc = StandardScaler()\n",
    "x_train = sc.fit_transform(x_train)\n",
    "x_test = sc.transform(x_test)"
   ]
  },
  {
   "cell_type": "code",
   "execution_count": 12,
   "metadata": {},
   "outputs": [
    {
     "data": {
      "text/plain": [
       "(512, 30)"
      ]
     },
     "execution_count": 12,
     "metadata": {},
     "output_type": "execute_result"
    }
   ],
   "source": [
    "x_train.shape"
   ]
  },
  {
   "cell_type": "code",
   "execution_count": 13,
   "metadata": {},
   "outputs": [
    {
     "data": {
      "text/plain": [
       "(57, 30)"
      ]
     },
     "execution_count": 13,
     "metadata": {},
     "output_type": "execute_result"
    }
   ],
   "source": [
    "x_test.shape"
   ]
  },
  {
   "cell_type": "markdown",
   "metadata": {},
   "source": [
    "## One-Hot Encoding: Converting the Labels From Integers to Categorical Data"
   ]
  },
  {
   "cell_type": "code",
   "execution_count": 14,
   "metadata": {},
   "outputs": [],
   "source": [
    "y_train = to_categorical(y_train)\n",
    "y_test = to_categorical(y_test)"
   ]
  },
  {
   "cell_type": "code",
   "execution_count": 15,
   "metadata": {},
   "outputs": [
    {
     "data": {
      "text/plain": [
       "(512, 2)"
      ]
     },
     "execution_count": 15,
     "metadata": {},
     "output_type": "execute_result"
    }
   ],
   "source": [
    "y_train.shape"
   ]
  },
  {
   "cell_type": "code",
   "execution_count": 16,
   "metadata": {},
   "outputs": [
    {
     "data": {
      "text/plain": [
       "(57, 2)"
      ]
     },
     "execution_count": 16,
     "metadata": {},
     "output_type": "execute_result"
    }
   ],
   "source": [
    "y_test.shape"
   ]
  },
  {
   "cell_type": "code",
   "execution_count": 17,
   "metadata": {},
   "outputs": [],
   "source": [
    "# Create a neural network\n",
    "model = Sequential()"
   ]
  },
  {
   "cell_type": "markdown",
   "metadata": {},
   "source": [
    "## Add layers to the neural network"
   ]
  },
  {
   "cell_type": "code",
   "execution_count": 18,
   "metadata": {},
   "outputs": [],
   "source": [
    "model.add(Dense(100,input_shape =(30,),activation=\"relu\"))\n",
    "model.add(Dense(50,activation=\"sigmoid\"))\n",
    "model.add(Dense(2,activation=\"softmax\"))"
   ]
  },
  {
   "cell_type": "code",
   "execution_count": 19,
   "metadata": {},
   "outputs": [
    {
     "name": "stdout",
     "output_type": "stream",
     "text": [
      "Model: \"sequential\"\n",
      "_________________________________________________________________\n",
      "Layer (type)                 Output Shape              Param #   \n",
      "=================================================================\n",
      "dense (Dense)                (None, 100)               3100      \n",
      "_________________________________________________________________\n",
      "dense_1 (Dense)              (None, 50)                5050      \n",
      "_________________________________________________________________\n",
      "dense_2 (Dense)              (None, 2)                 102       \n",
      "=================================================================\n",
      "Total params: 8,252\n",
      "Trainable params: 8,252\n",
      "Non-trainable params: 0\n",
      "_________________________________________________________________\n"
     ]
    }
   ],
   "source": [
    "model.summary()"
   ]
  },
  {
   "cell_type": "markdown",
   "metadata": {},
   "source": [
    "# Visualizing the model's structure"
   ]
  },
  {
   "cell_type": "code",
   "execution_count": 20,
   "metadata": {},
   "outputs": [],
   "source": [
    "from tensorflow.keras.utils import plot_model"
   ]
  },
  {
   "cell_type": "code",
   "execution_count": 21,
   "metadata": {},
   "outputs": [],
   "source": [
    "from IPython.display import Image"
   ]
  },
  {
   "cell_type": "code",
   "execution_count": 22,
   "metadata": {},
   "outputs": [
    {
     "data": {
      "image/png": "[encoded data removed]",
      "text/plain": [
       "<IPython.core.display.Image object>"
      ]
     },
     "execution_count": 22,
     "metadata": {},
     "output_type": "execute_result"
    }
   ],
   "source": [
    "plot_model(model, to_file='neuralNetwork.png', show_shapes=True, \n",
    "           show_layer_names=True)"
   ]
  },
  {
   "cell_type": "markdown",
   "metadata": {},
   "source": [
    "## Compiling the model"
   ]
  },
  {
   "cell_type": "code",
   "execution_count": 23,
   "metadata": {},
   "outputs": [],
   "source": [
    "model.compile(optimizer='adam',\n",
    "            loss='categorical_crossentropy',\n",
    "            metrics=['accuracy'])"
   ]
  },
  {
   "cell_type": "markdown",
   "metadata": {},
   "source": [
    "## training with 90% for training and 10% for validation"
   ]
  },
  {
   "cell_type": "code",
   "execution_count": 24,
   "metadata": {},
   "outputs": [
    {
     "name": "stdout",
     "output_type": "stream",
     "text": [
      "Train on 460 samples, validate on 52 samples\n",
      "Epoch 1/50\n",
      "460/460 [==============================] - 0s 865us/sample - loss: 0.6095 - accuracy: 0.6565 - val_loss: 0.5084 - val_accuracy: 0.8269\n",
      "Epoch 2/50\n",
      "460/460 [==============================] - 0s 28us/sample - loss: 0.4572 - accuracy: 0.8587 - val_loss: 0.3948 - val_accuracy: 0.8846\n",
      "Epoch 3/50\n",
      "460/460 [==============================] - 0s 35us/sample - loss: 0.3495 - accuracy: 0.9261 - val_loss: 0.3133 - val_accuracy: 0.8846\n",
      "Epoch 4/50\n",
      "460/460 [==============================] - 0s 30us/sample - loss: 0.2736 - accuracy: 0.9391 - val_loss: 0.2555 - val_accuracy: 0.9038\n",
      "Epoch 5/50\n",
      "460/460 [==============================] - 0s 28us/sample - loss: 0.2189 - accuracy: 0.9478 - val_loss: 0.2160 - val_accuracy: 0.9038\n",
      "Epoch 6/50\n",
      "460/460 [==============================] - 0s 30us/sample - loss: 0.1805 - accuracy: 0.9522 - val_loss: 0.1885 - val_accuracy: 0.9038\n",
      "Epoch 7/50\n",
      "460/460 [==============================] - ETA: 0s - loss: 0.1866 - accuracy: 0.93 - 0s 30us/sample - loss: 0.1530 - accuracy: 0.9630 - val_loss: 0.1681 - val_accuracy: 0.9038\n",
      "Epoch 8/50\n",
      "460/460 [==============================] - 0s 28us/sample - loss: 0.1330 - accuracy: 0.9717 - val_loss: 0.1523 - val_accuracy: 0.9231\n",
      "Epoch 9/50\n",
      "460/460 [==============================] - 0s 28us/sample - loss: 0.1175 - accuracy: 0.9783 - val_loss: 0.1396 - val_accuracy: 0.9231\n",
      "Epoch 10/50\n",
      "460/460 [==============================] - 0s 30us/sample - loss: 0.1059 - accuracy: 0.9804 - val_loss: 0.1295 - val_accuracy: 0.9231\n",
      "Epoch 11/50\n",
      "460/460 [==============================] - 0s 28us/sample - loss: 0.0966 - accuracy: 0.9826 - val_loss: 0.1212 - val_accuracy: 0.9423\n",
      "Epoch 12/50\n",
      "460/460 [==============================] - 0s 26us/sample - loss: 0.0898 - accuracy: 0.9826 - val_loss: 0.1145 - val_accuracy: 0.9615\n",
      "Epoch 13/50\n",
      "460/460 [==============================] - 0s 28us/sample - loss: 0.0837 - accuracy: 0.9826 - val_loss: 0.1091 - val_accuracy: 0.9615\n",
      "Epoch 14/50\n",
      "460/460 [==============================] - 0s 30us/sample - loss: 0.0790 - accuracy: 0.9826 - val_loss: 0.1045 - val_accuracy: 0.9615\n",
      "Epoch 15/50\n",
      "460/460 [==============================] - 0s 26us/sample - loss: 0.0748 - accuracy: 0.9848 - val_loss: 0.1004 - val_accuracy: 0.9615\n",
      "Epoch 16/50\n",
      "460/460 [==============================] - 0s 28us/sample - loss: 0.0714 - accuracy: 0.9848 - val_loss: 0.0969 - val_accuracy: 0.9615\n",
      "Epoch 17/50\n",
      "460/460 [==============================] - 0s 30us/sample - loss: 0.0682 - accuracy: 0.9870 - val_loss: 0.0941 - val_accuracy: 0.9615\n",
      "Epoch 18/50\n",
      "460/460 [==============================] - 0s 26us/sample - loss: 0.0656 - accuracy: 0.9870 - val_loss: 0.0916 - val_accuracy: 0.9615\n",
      "Epoch 19/50\n",
      "460/460 [==============================] - 0s 26us/sample - loss: 0.0631 - accuracy: 0.9891 - val_loss: 0.0895 - val_accuracy: 0.9615\n",
      "Epoch 20/50\n",
      "460/460 [==============================] - 0s 28us/sample - loss: 0.0612 - accuracy: 0.9891 - val_loss: 0.0878 - val_accuracy: 0.9615\n",
      "Epoch 21/50\n",
      "460/460 [==============================] - 0s 28us/sample - loss: 0.0592 - accuracy: 0.9891 - val_loss: 0.0861 - val_accuracy: 0.9615\n",
      "Epoch 22/50\n",
      "460/460 [==============================] - 0s 26us/sample - loss: 0.0575 - accuracy: 0.9891 - val_loss: 0.0846 - val_accuracy: 0.9615\n",
      "Epoch 23/50\n",
      "460/460 [==============================] - 0s 30us/sample - loss: 0.0557 - accuracy: 0.9891 - val_loss: 0.0830 - val_accuracy: 0.9615\n",
      "Epoch 24/50\n",
      "460/460 [==============================] - 0s 28us/sample - loss: 0.0542 - accuracy: 0.9891 - val_loss: 0.0813 - val_accuracy: 0.9808\n",
      "Epoch 25/50\n",
      "460/460 [==============================] - 0s 26us/sample - loss: 0.0529 - accuracy: 0.9891 - val_loss: 0.0799 - val_accuracy: 0.9808\n",
      "Epoch 26/50\n",
      "460/460 [==============================] - 0s 30us/sample - loss: 0.0515 - accuracy: 0.9891 - val_loss: 0.0788 - val_accuracy: 0.9808\n",
      "Epoch 27/50\n",
      "460/460 [==============================] - 0s 26us/sample - loss: 0.0501 - accuracy: 0.9891 - val_loss: 0.0779 - val_accuracy: 0.9808\n",
      "Epoch 28/50\n",
      "460/460 [==============================] - 0s 28us/sample - loss: 0.0490 - accuracy: 0.9891 - val_loss: 0.0771 - val_accuracy: 0.9808\n",
      "Epoch 29/50\n",
      "460/460 [==============================] - 0s 28us/sample - loss: 0.0478 - accuracy: 0.9891 - val_loss: 0.0762 - val_accuracy: 0.9808\n",
      "Epoch 30/50\n",
      "460/460 [==============================] - 0s 24us/sample - loss: 0.0467 - accuracy: 0.9913 - val_loss: 0.0753 - val_accuracy: 0.9808\n",
      "Epoch 31/50\n",
      "460/460 [==============================] - 0s 28us/sample - loss: 0.0456 - accuracy: 0.9913 - val_loss: 0.0743 - val_accuracy: 0.9808\n",
      "Epoch 32/50\n",
      "460/460 [==============================] - 0s 26us/sample - loss: 0.0447 - accuracy: 0.9891 - val_loss: 0.0735 - val_accuracy: 0.9808\n",
      "Epoch 33/50\n",
      "460/460 [==============================] - 0s 28us/sample - loss: 0.0436 - accuracy: 0.9913 - val_loss: 0.0729 - val_accuracy: 0.9808\n",
      "Epoch 34/50\n",
      "460/460 [==============================] - 0s 30us/sample - loss: 0.0427 - accuracy: 0.9913 - val_loss: 0.0724 - val_accuracy: 0.9808\n",
      "Epoch 35/50\n",
      "460/460 [==============================] - 0s 26us/sample - loss: 0.0419 - accuracy: 0.9913 - val_loss: 0.0716 - val_accuracy: 0.9808\n",
      "Epoch 36/50\n",
      "460/460 [==============================] - 0s 30us/sample - loss: 0.0409 - accuracy: 0.9913 - val_loss: 0.0712 - val_accuracy: 0.9808\n",
      "Epoch 37/50\n",
      "460/460 [==============================] - 0s 28us/sample - loss: 0.0401 - accuracy: 0.9913 - val_loss: 0.0709 - val_accuracy: 0.9808\n",
      "Epoch 38/50\n",
      "460/460 [==============================] - 0s 28us/sample - loss: 0.0394 - accuracy: 0.9913 - val_loss: 0.0706 - val_accuracy: 0.9808\n",
      "Epoch 39/50\n",
      "460/460 [==============================] - 0s 30us/sample - loss: 0.0383 - accuracy: 0.9935 - val_loss: 0.0699 - val_accuracy: 0.9808\n",
      "Epoch 40/50\n",
      "460/460 [==============================] - 0s 28us/sample - loss: 0.0376 - accuracy: 0.9935 - val_loss: 0.0696 - val_accuracy: 0.9808\n",
      "Epoch 41/50\n",
      "460/460 [==============================] - 0s 28us/sample - loss: 0.0367 - accuracy: 0.9935 - val_loss: 0.0693 - val_accuracy: 0.9808\n",
      "Epoch 42/50\n",
      "460/460 [==============================] - 0s 26us/sample - loss: 0.0359 - accuracy: 0.9935 - val_loss: 0.0690 - val_accuracy: 0.9808\n",
      "Epoch 43/50\n",
      "460/460 [==============================] - 0s 28us/sample - loss: 0.0352 - accuracy: 0.9935 - val_loss: 0.0684 - val_accuracy: 0.9808\n",
      "Epoch 44/50\n",
      "460/460 [==============================] - 0s 28us/sample - loss: 0.0343 - accuracy: 0.9935 - val_loss: 0.0678 - val_accuracy: 0.9808\n",
      "Epoch 45/50\n",
      "460/460 [==============================] - 0s 29us/sample - loss: 0.0335 - accuracy: 0.9935 - val_loss: 0.0673 - val_accuracy: 0.9808\n",
      "Epoch 46/50\n",
      "460/460 [==============================] - 0s 28us/sample - loss: 0.0328 - accuracy: 0.9935 - val_loss: 0.0669 - val_accuracy: 0.9808\n",
      "Epoch 47/50\n",
      "460/460 [==============================] - 0s 28us/sample - loss: 0.0323 - accuracy: 0.9935 - val_loss: 0.0663 - val_accuracy: 0.9808\n",
      "Epoch 48/50\n",
      "460/460 [==============================] - 0s 28us/sample - loss: 0.0313 - accuracy: 0.9935 - val_loss: 0.0666 - val_accuracy: 0.9808\n",
      "Epoch 49/50\n",
      "460/460 [==============================] - 0s 28us/sample - loss: 0.0305 - accuracy: 0.9935 - val_loss: 0.0665 - val_accuracy: 0.9808\n",
      "Epoch 50/50\n",
      "460/460 [==============================] - 0s 28us/sample - loss: 0.0299 - accuracy: 0.9935 - val_loss: 0.0666 - val_accuracy: 0.9808\n"
     ]
    },
    {
     "data": {
      "text/plain": [
       "<tensorflow.python.keras.callbacks.History at 0x1746be74888>"
      ]
     },
     "execution_count": 24,
     "metadata": {},
     "output_type": "execute_result"
    }
   ],
   "source": [
    "model.fit(x_train, y_train, epochs=50, batch_size=100,validation_split=0.1) "
   ]
  },
  {
   "cell_type": "markdown",
   "metadata": {},
   "source": [
    "## Calculate Loss and Accuracy of the neural model"
   ]
  },
  {
   "cell_type": "code",
   "execution_count": 25,
   "metadata": {},
   "outputs": [
    {
     "name": "stdout",
     "output_type": "stream",
     "text": [
      "57/57 [==============================] - 0s 52us/sample - loss: 0.0894 - accuracy: 0.9825\n",
      "Loss =  0.0894215926527977 Accuracy =  0.98245615\n"
     ]
    }
   ],
   "source": [
    "loss, accuracy = model.evaluate(x_test, y_test, batch_size=100)\n",
    "print(\"Loss = \" ,loss, \"Accuracy = \",accuracy)"
   ]
  },
  {
   "cell_type": "markdown",
   "metadata": {},
   "source": [
    "## Perform Prediction"
   ]
  },
  {
   "cell_type": "code",
   "execution_count": 26,
   "metadata": {},
   "outputs": [
    {
     "name": "stdout",
     "output_type": "stream",
     "text": [
      "Actual:  [1. 0.] , Predicted: [0.95990884 0.0400911 ]\n",
      "None\n",
      "Actual:  [0. 1.] , Predicted: [6.4606476e-04 9.9935395e-01]\n",
      "None\n",
      "Actual:  [0. 1.] , Predicted: [0.00172552 0.99827445]\n",
      "None\n",
      "Actual:  [1. 0.] , Predicted: [9.993672e-01 6.328802e-04]\n",
      "None\n",
      "Actual:  [1. 0.] , Predicted: [9.9962294e-01 3.7699513e-04]\n",
      "None\n",
      "Actual:  [0. 1.] , Predicted: [2.9765264e-04 9.9970227e-01]\n",
      "None\n",
      "Actual:  [0. 1.] , Predicted: [3.2104301e-04 9.9967897e-01]\n",
      "None\n",
      "Actual:  [0. 1.] , Predicted: [0.03899173 0.9610082 ]\n",
      "None\n",
      "Actual:  [1. 0.] , Predicted: [0.6690027  0.33099735]\n",
      "None\n",
      "Actual:  [1. 0.] , Predicted: [0.99875414 0.00124588]\n",
      "None\n",
      "Actual:  [1. 0.] , Predicted: [0.89879715 0.10120286]\n",
      "None\n",
      "Actual:  [0. 1.] , Predicted: [0.01789909 0.9821009 ]\n",
      "None\n",
      "Actual:  [1. 0.] , Predicted: [0.9880945  0.01190552]\n",
      "None\n",
      "Actual:  [0. 1.] , Predicted: [0.03237764 0.9676223 ]\n",
      "None\n",
      "Actual:  [1. 0.] , Predicted: [9.991499e-01 8.500795e-04]\n",
      "None\n",
      "Actual:  [0. 1.] , Predicted: [0.00484487 0.9951551 ]\n",
      "None\n",
      "Actual:  [1. 0.] , Predicted: [0.9986608  0.00133924]\n",
      "None\n",
      "Actual:  [1. 0.] , Predicted: [9.9960452e-01 3.9554486e-04]\n",
      "None\n",
      "Actual:  [1. 0.] , Predicted: [9.9984407e-01 1.5586743e-04]\n",
      "None\n",
      "Actual:  [0. 1.] , Predicted: [4.1217956e-04 9.9958783e-01]\n",
      "None\n",
      "Actual:  [0. 1.] , Predicted: [0.97850686 0.02149319]\n",
      "None\n",
      "Actual:  [1. 0.] , Predicted: [0.9910862  0.00891384]\n",
      "None\n",
      "Actual:  [0. 1.] , Predicted: [3.1155482e-04 9.9968851e-01]\n",
      "None\n",
      "Actual:  [1. 0.] , Predicted: [9.9950385e-01 4.9618020e-04]\n",
      "None\n",
      "Actual:  [1. 0.] , Predicted: [0.9979693  0.00203063]\n",
      "None\n",
      "Actual:  [1. 0.] , Predicted: [9.9902403e-01 9.7594946e-04]\n",
      "None\n",
      "Actual:  [1. 0.] , Predicted: [9.9917382e-01 8.2614657e-04]\n",
      "None\n",
      "Actual:  [1. 0.] , Predicted: [0.9977552  0.00224482]\n",
      "None\n",
      "Actual:  [1. 0.] , Predicted: [0.9976012  0.00239876]\n",
      "None\n",
      "Actual:  [0. 1.] , Predicted: [4.2768833e-04 9.9957234e-01]\n",
      "None\n",
      "Actual:  [1. 0.] , Predicted: [0.9987809  0.00121913]\n",
      "None\n",
      "Actual:  [1. 0.] , Predicted: [9.9958640e-01 4.1360167e-04]\n",
      "None\n",
      "Actual:  [1. 0.] , Predicted: [0.996505   0.00349506]\n",
      "None\n",
      "Actual:  [1. 0.] , Predicted: [0.9973278 0.0026722]\n",
      "None\n",
      "Actual:  [1. 0.] , Predicted: [9.9956101e-01 4.3892354e-04]\n",
      "None\n",
      "Actual:  [1. 0.] , Predicted: [0.9984127 0.0015872]\n",
      "None\n",
      "Actual:  [0. 1.] , Predicted: [0.04500564 0.9549943 ]\n",
      "None\n",
      "Actual:  [1. 0.] , Predicted: [0.99796057 0.00203945]\n",
      "None\n",
      "Actual:  [0. 1.] , Predicted: [7.6743867e-04 9.9923253e-01]\n",
      "None\n",
      "Actual:  [1. 0.] , Predicted: [0.94920385 0.05079615]\n",
      "None\n",
      "Actual:  [1. 0.] , Predicted: [9.9926108e-01 7.3895894e-04]\n",
      "None\n",
      "Actual:  [0. 1.] , Predicted: [0.00226198 0.997738  ]\n",
      "None\n",
      "Actual:  [1. 0.] , Predicted: [0.9989573  0.00104273]\n",
      "None\n",
      "Actual:  [1. 0.] , Predicted: [9.9903095e-01 9.6907082e-04]\n",
      "None\n",
      "Actual:  [1. 0.] , Predicted: [0.932789   0.06721102]\n",
      "None\n",
      "Actual:  [1. 0.] , Predicted: [0.99070084 0.00929908]\n",
      "None\n",
      "Actual:  [1. 0.] , Predicted: [9.9960512e-01 3.9486046e-04]\n",
      "None\n",
      "Actual:  [1. 0.] , Predicted: [0.99687696 0.00312299]\n",
      "None\n",
      "Actual:  [1. 0.] , Predicted: [0.97655576 0.02344421]\n",
      "None\n",
      "Actual:  [1. 0.] , Predicted: [9.992440e-01 7.561014e-04]\n",
      "None\n",
      "Actual:  [0. 1.] , Predicted: [7.2309130e-04 9.9927694e-01]\n",
      "None\n",
      "Actual:  [0. 1.] , Predicted: [3.3941018e-04 9.9966061e-01]\n",
      "None\n",
      "Actual:  [1. 0.] , Predicted: [0.7920822  0.20791788]\n",
      "None\n",
      "Actual:  [1. 0.] , Predicted: [0.89402205 0.10597792]\n",
      "None\n",
      "Actual:  [1. 0.] , Predicted: [9.9980730e-01 1.9269546e-04]\n",
      "None\n",
      "Actual:  [1. 0.] , Predicted: [0.996651   0.00334904]\n",
      "None\n",
      "Actual:  [1. 0.] , Predicted: [9.9972063e-01 2.7932809e-04]\n",
      "None\n"
     ]
    }
   ],
   "source": [
    "predictions = model.predict(x_test)\n",
    "for i in np.arange(len(predictions)):\n",
    "    print(print(\"Actual: \" , y_test[i],\", Predicted:\" , predictions[i]))\n",
    "   "
   ]
  },
  {
   "cell_type": "markdown",
   "metadata": {},
   "source": [
    "# Try with 16 features"
   ]
  },
  {
   "cell_type": "code",
   "execution_count": 27,
   "metadata": {},
   "outputs": [
    {
     "data": {
      "text/plain": [
       "(569, 16)"
      ]
     },
     "execution_count": 27,
     "metadata": {},
     "output_type": "execute_result"
    }
   ],
   "source": [
    "x1 = df1[['texture_mean', 'area_mean', 'smoothness_mean','concavity_mean',\n",
    "       'symmetry_mean', 'fractal_dimension_mean',\n",
    "       'texture_se', 'area_se', 'smoothness_se',\n",
    "       'concavity_se', 'symmetry_se',\n",
    "       'fractal_dimension_se', 'smoothness_worst',\n",
    "       'concavity_worst', 'symmetry_worst', 'fractal_dimension_worst']]\n",
    "x1.shape"
   ]
  },
  {
   "cell_type": "code",
   "execution_count": 28,
   "metadata": {},
   "outputs": [],
   "source": [
    "y1=df1[\"diagnosis\"]"
   ]
  },
  {
   "cell_type": "code",
   "execution_count": 29,
   "metadata": {},
   "outputs": [
    {
     "data": {
      "text/plain": [
       "(569,)"
      ]
     },
     "execution_count": 29,
     "metadata": {},
     "output_type": "execute_result"
    }
   ],
   "source": [
    "y1.shape"
   ]
  },
  {
   "cell_type": "markdown",
   "metadata": {},
   "source": [
    "### We split 90% for training, 10% for testing"
   ]
  },
  {
   "cell_type": "code",
   "execution_count": 30,
   "metadata": {},
   "outputs": [
    {
     "name": "stdout",
     "output_type": "stream",
     "text": [
      "Train set: (512, 16) (512,)\n",
      "Test set: (57, 16) (57,)\n"
     ]
    }
   ],
   "source": [
    "from sklearn.model_selection import train_test_split\n",
    "x1_train,x1_test,y1_train,y1_test = train_test_split(x1,y1,test_size=0.1,random_state=42)\n",
    "print ('Train set:', x1_train.shape,  y1_train.shape)\n",
    "print ('Test set:', x1_test.shape,  y1_test.shape)"
   ]
  },
  {
   "cell_type": "markdown",
   "metadata": {},
   "source": [
    "### We fit the scaler on your training data only, then standardise both training and test sets with that scaler"
   ]
  },
  {
   "cell_type": "code",
   "execution_count": 31,
   "metadata": {},
   "outputs": [],
   "source": [
    "from sklearn.preprocessing import StandardScaler\n",
    "sc = StandardScaler()\n",
    "x1_train = sc.fit_transform(x1_train)\n",
    "x1_test = sc.transform(x1_test)"
   ]
  },
  {
   "cell_type": "code",
   "execution_count": 32,
   "metadata": {},
   "outputs": [
    {
     "data": {
      "text/plain": [
       "(512, 16)"
      ]
     },
     "execution_count": 32,
     "metadata": {},
     "output_type": "execute_result"
    }
   ],
   "source": [
    "x1_train.shape"
   ]
  },
  {
   "cell_type": "code",
   "execution_count": 33,
   "metadata": {},
   "outputs": [
    {
     "data": {
      "text/plain": [
       "(57, 16)"
      ]
     },
     "execution_count": 33,
     "metadata": {},
     "output_type": "execute_result"
    }
   ],
   "source": [
    "x1_test.shape"
   ]
  },
  {
   "cell_type": "markdown",
   "metadata": {},
   "source": [
    "### One-Hot Encoding: Converting the Labels From Integers to Categorical Data"
   ]
  },
  {
   "cell_type": "code",
   "execution_count": 34,
   "metadata": {},
   "outputs": [],
   "source": [
    "y1_train = to_categorical(y1_train)\n",
    "y1_test = to_categorical(y1_test)"
   ]
  },
  {
   "cell_type": "code",
   "execution_count": 35,
   "metadata": {},
   "outputs": [
    {
     "data": {
      "text/plain": [
       "(512, 2)"
      ]
     },
     "execution_count": 35,
     "metadata": {},
     "output_type": "execute_result"
    }
   ],
   "source": [
    "y1_train.shape"
   ]
  },
  {
   "cell_type": "code",
   "execution_count": 36,
   "metadata": {},
   "outputs": [
    {
     "data": {
      "text/plain": [
       "(57, 2)"
      ]
     },
     "execution_count": 36,
     "metadata": {},
     "output_type": "execute_result"
    }
   ],
   "source": [
    "y1_test.shape"
   ]
  },
  {
   "cell_type": "markdown",
   "metadata": {},
   "source": [
    "### Create a neural network model"
   ]
  },
  {
   "cell_type": "code",
   "execution_count": 37,
   "metadata": {},
   "outputs": [],
   "source": [
    "model1 = Sequential()"
   ]
  },
  {
   "cell_type": "markdown",
   "metadata": {},
   "source": [
    "### Add layers to the neural network"
   ]
  },
  {
   "cell_type": "code",
   "execution_count": 38,
   "metadata": {},
   "outputs": [],
   "source": [
    "model1.add(Dense(100,input_shape =(16,),activation=\"relu\"))\n",
    "model1.add(Dense(50,activation=\"sigmoid\"))\n",
    "model1.add(Dense(2,activation=\"softmax\"))"
   ]
  },
  {
   "cell_type": "code",
   "execution_count": 39,
   "metadata": {},
   "outputs": [
    {
     "name": "stdout",
     "output_type": "stream",
     "text": [
      "Model: \"sequential_1\"\n",
      "_________________________________________________________________\n",
      "Layer (type)                 Output Shape              Param #   \n",
      "=================================================================\n",
      "dense_3 (Dense)              (None, 100)               1700      \n",
      "_________________________________________________________________\n",
      "dense_4 (Dense)              (None, 50)                5050      \n",
      "_________________________________________________________________\n",
      "dense_5 (Dense)              (None, 2)                 102       \n",
      "=================================================================\n",
      "Total params: 6,852\n",
      "Trainable params: 6,852\n",
      "Non-trainable params: 0\n",
      "_________________________________________________________________\n"
     ]
    }
   ],
   "source": [
    "model1.summary()"
   ]
  },
  {
   "cell_type": "markdown",
   "metadata": {},
   "source": [
    "### Compiling the model"
   ]
  },
  {
   "cell_type": "code",
   "execution_count": 40,
   "metadata": {},
   "outputs": [],
   "source": [
    "model1.compile(optimizer='adam',\n",
    "            loss='categorical_crossentropy',\n",
    "            metrics=['accuracy'])"
   ]
  },
  {
   "cell_type": "markdown",
   "metadata": {},
   "source": [
    "### Training with 90% for training and 10% for validation"
   ]
  },
  {
   "cell_type": "code",
   "execution_count": 41,
   "metadata": {},
   "outputs": [
    {
     "name": "stdout",
     "output_type": "stream",
     "text": [
      "Train on 460 samples, validate on 52 samples\n",
      "Epoch 1/50\n",
      "460/460 [==============================] - 0s 837us/sample - loss: 1.0143 - accuracy: 0.3870 - val_loss: 0.8991 - val_accuracy: 0.3269\n",
      "Epoch 2/50\n",
      "460/460 [==============================] - 0s 26us/sample - loss: 0.8123 - accuracy: 0.3891 - val_loss: 0.6984 - val_accuracy: 0.4615\n",
      "Epoch 3/50\n",
      "460/460 [==============================] - 0s 28us/sample - loss: 0.6563 - accuracy: 0.5326 - val_loss: 0.5576 - val_accuracy: 0.8077\n",
      "Epoch 4/50\n",
      "460/460 [==============================] - 0s 28us/sample - loss: 0.5451 - accuracy: 0.8174 - val_loss: 0.4673 - val_accuracy: 0.8269\n",
      "Epoch 5/50\n",
      "460/460 [==============================] - 0s 28us/sample - loss: 0.4697 - accuracy: 0.8957 - val_loss: 0.4096 - val_accuracy: 0.9231\n",
      "Epoch 6/50\n",
      "460/460 [==============================] - 0s 30us/sample - loss: 0.4133 - accuracy: 0.9109 - val_loss: 0.3704 - val_accuracy: 0.9038\n",
      "Epoch 7/50\n",
      "460/460 [==============================] - 0s 28us/sample - loss: 0.3704 - accuracy: 0.9239 - val_loss: 0.3407 - val_accuracy: 0.8846\n",
      "Epoch 8/50\n",
      "460/460 [==============================] - 0s 28us/sample - loss: 0.3335 - accuracy: 0.9174 - val_loss: 0.3161 - val_accuracy: 0.8846\n",
      "Epoch 9/50\n",
      "460/460 [==============================] - 0s 30us/sample - loss: 0.3010 - accuracy: 0.9239 - val_loss: 0.2951 - val_accuracy: 0.8846\n",
      "Epoch 10/50\n",
      "460/460 [==============================] - 0s 28us/sample - loss: 0.2729 - accuracy: 0.9304 - val_loss: 0.2765 - val_accuracy: 0.9038\n",
      "Epoch 11/50\n",
      "460/460 [==============================] - 0s 28us/sample - loss: 0.2482 - accuracy: 0.9413 - val_loss: 0.2594 - val_accuracy: 0.9038\n",
      "Epoch 12/50\n",
      "460/460 [==============================] - 0s 28us/sample - loss: 0.2269 - accuracy: 0.9500 - val_loss: 0.2443 - val_accuracy: 0.9038\n",
      "Epoch 13/50\n",
      "460/460 [==============================] - 0s 28us/sample - loss: 0.2082 - accuracy: 0.9587 - val_loss: 0.2302 - val_accuracy: 0.9038\n",
      "Epoch 14/50\n",
      "460/460 [==============================] - 0s 28us/sample - loss: 0.1915 - accuracy: 0.9674 - val_loss: 0.2176 - val_accuracy: 0.9038\n",
      "Epoch 15/50\n",
      "460/460 [==============================] - 0s 28us/sample - loss: 0.1770 - accuracy: 0.9696 - val_loss: 0.2064 - val_accuracy: 0.9038\n",
      "Epoch 16/50\n",
      "460/460 [==============================] - 0s 30us/sample - loss: 0.1639 - accuracy: 0.9717 - val_loss: 0.1966 - val_accuracy: 0.9038\n",
      "Epoch 17/50\n",
      "460/460 [==============================] - 0s 28us/sample - loss: 0.1526 - accuracy: 0.9717 - val_loss: 0.1878 - val_accuracy: 0.9038\n",
      "Epoch 18/50\n",
      "460/460 [==============================] - 0s 30us/sample - loss: 0.1427 - accuracy: 0.9739 - val_loss: 0.1801 - val_accuracy: 0.9038\n",
      "Epoch 19/50\n",
      "460/460 [==============================] - 0s 28us/sample - loss: 0.1338 - accuracy: 0.9739 - val_loss: 0.1732 - val_accuracy: 0.9231\n",
      "Epoch 20/50\n",
      "460/460 [==============================] - 0s 28us/sample - loss: 0.1256 - accuracy: 0.9761 - val_loss: 0.1673 - val_accuracy: 0.9231\n",
      "Epoch 21/50\n",
      "460/460 [==============================] - 0s 28us/sample - loss: 0.1185 - accuracy: 0.9783 - val_loss: 0.1619 - val_accuracy: 0.9423\n",
      "Epoch 22/50\n",
      "460/460 [==============================] - 0s 30us/sample - loss: 0.1119 - accuracy: 0.9804 - val_loss: 0.1569 - val_accuracy: 0.9423\n",
      "Epoch 23/50\n",
      "460/460 [==============================] - ETA: 0s - loss: 0.1388 - accuracy: 0.97 - 0s 28us/sample - loss: 0.1066 - accuracy: 0.9804 - val_loss: 0.1521 - val_accuracy: 0.9423\n",
      "Epoch 24/50\n",
      "460/460 [==============================] - 0s 26us/sample - loss: 0.1012 - accuracy: 0.9804 - val_loss: 0.1479 - val_accuracy: 0.9423\n",
      "Epoch 25/50\n",
      "460/460 [==============================] - 0s 28us/sample - loss: 0.0962 - accuracy: 0.9804 - val_loss: 0.1442 - val_accuracy: 0.9423\n",
      "Epoch 26/50\n",
      "460/460 [==============================] - 0s 30us/sample - loss: 0.0919 - accuracy: 0.9826 - val_loss: 0.1407 - val_accuracy: 0.9423\n",
      "Epoch 27/50\n",
      "460/460 [==============================] - 0s 30us/sample - loss: 0.0880 - accuracy: 0.9826 - val_loss: 0.1376 - val_accuracy: 0.9423\n",
      "Epoch 28/50\n",
      "460/460 [==============================] - 0s 28us/sample - loss: 0.0847 - accuracy: 0.9826 - val_loss: 0.1348 - val_accuracy: 0.9423\n",
      "Epoch 29/50\n",
      "460/460 [==============================] - 0s 28us/sample - loss: 0.0812 - accuracy: 0.9826 - val_loss: 0.1321 - val_accuracy: 0.9423\n",
      "Epoch 30/50\n",
      "460/460 [==============================] - 0s 26us/sample - loss: 0.0783 - accuracy: 0.9826 - val_loss: 0.1296 - val_accuracy: 0.9423\n",
      "Epoch 31/50\n",
      "460/460 [==============================] - 0s 28us/sample - loss: 0.0755 - accuracy: 0.9848 - val_loss: 0.1270 - val_accuracy: 0.9423\n",
      "Epoch 32/50\n",
      "460/460 [==============================] - 0s 28us/sample - loss: 0.0732 - accuracy: 0.9870 - val_loss: 0.1249 - val_accuracy: 0.9423\n",
      "Epoch 33/50\n",
      "460/460 [==============================] - 0s 28us/sample - loss: 0.0710 - accuracy: 0.9870 - val_loss: 0.1226 - val_accuracy: 0.9423\n",
      "Epoch 34/50\n",
      "460/460 [==============================] - 0s 28us/sample - loss: 0.0689 - accuracy: 0.9870 - val_loss: 0.1206 - val_accuracy: 0.9423\n",
      "Epoch 35/50\n",
      "460/460 [==============================] - 0s 26us/sample - loss: 0.0670 - accuracy: 0.9870 - val_loss: 0.1187 - val_accuracy: 0.9423\n",
      "Epoch 36/50\n",
      "460/460 [==============================] - 0s 30us/sample - loss: 0.0652 - accuracy: 0.9870 - val_loss: 0.1170 - val_accuracy: 0.9423\n",
      "Epoch 37/50\n",
      "460/460 [==============================] - 0s 26us/sample - loss: 0.0636 - accuracy: 0.9870 - val_loss: 0.1154 - val_accuracy: 0.9423\n",
      "Epoch 38/50\n",
      "460/460 [==============================] - 0s 30us/sample - loss: 0.0623 - accuracy: 0.9870 - val_loss: 0.1141 - val_accuracy: 0.9423\n",
      "Epoch 39/50\n",
      "460/460 [==============================] - 0s 26us/sample - loss: 0.0608 - accuracy: 0.9891 - val_loss: 0.1129 - val_accuracy: 0.9423\n",
      "Epoch 40/50\n",
      "460/460 [==============================] - 0s 28us/sample - loss: 0.0595 - accuracy: 0.9891 - val_loss: 0.1116 - val_accuracy: 0.9423\n",
      "Epoch 41/50\n",
      "460/460 [==============================] - 0s 28us/sample - loss: 0.0583 - accuracy: 0.9891 - val_loss: 0.1103 - val_accuracy: 0.9423\n",
      "Epoch 42/50\n",
      "460/460 [==============================] - 0s 28us/sample - loss: 0.0571 - accuracy: 0.9891 - val_loss: 0.1091 - val_accuracy: 0.9423\n",
      "Epoch 43/50\n",
      "460/460 [==============================] - 0s 28us/sample - loss: 0.0561 - accuracy: 0.9891 - val_loss: 0.1078 - val_accuracy: 0.9423\n",
      "Epoch 44/50\n",
      "460/460 [==============================] - 0s 28us/sample - loss: 0.0551 - accuracy: 0.9891 - val_loss: 0.1068 - val_accuracy: 0.9423\n",
      "Epoch 45/50\n",
      "460/460 [==============================] - 0s 28us/sample - loss: 0.0541 - accuracy: 0.9891 - val_loss: 0.1061 - val_accuracy: 0.9423\n",
      "Epoch 46/50\n",
      "460/460 [==============================] - 0s 26us/sample - loss: 0.0531 - accuracy: 0.9891 - val_loss: 0.1052 - val_accuracy: 0.9423\n",
      "Epoch 47/50\n",
      "460/460 [==============================] - 0s 28us/sample - loss: 0.0522 - accuracy: 0.9870 - val_loss: 0.1042 - val_accuracy: 0.9423\n",
      "Epoch 48/50\n",
      "460/460 [==============================] - 0s 26us/sample - loss: 0.0514 - accuracy: 0.9891 - val_loss: 0.1030 - val_accuracy: 0.9423\n",
      "Epoch 49/50\n",
      "460/460 [==============================] - 0s 28us/sample - loss: 0.0506 - accuracy: 0.9891 - val_loss: 0.1020 - val_accuracy: 0.9423\n",
      "Epoch 50/50\n",
      "460/460 [==============================] - 0s 28us/sample - loss: 0.0498 - accuracy: 0.9870 - val_loss: 0.1013 - val_accuracy: 0.9423\n"
     ]
    },
    {
     "data": {
      "text/plain": [
       "<tensorflow.python.keras.callbacks.History at 0x1746d88da88>"
      ]
     },
     "execution_count": 41,
     "metadata": {},
     "output_type": "execute_result"
    }
   ],
   "source": [
    "model1.fit(x1_train, y1_train, epochs=50, batch_size=100,validation_split=0.1) "
   ]
  },
  {
   "cell_type": "markdown",
   "metadata": {},
   "source": [
    "### Calculate Loss and Accuracy of the neural model"
   ]
  },
  {
   "cell_type": "code",
   "execution_count": 42,
   "metadata": {},
   "outputs": [
    {
     "name": "stdout",
     "output_type": "stream",
     "text": [
      "57/57 [==============================] - 0s 52us/sample - loss: 0.1148 - accuracy: 0.9825\n",
      "Loss =  0.1147887334227562 Accuracy =  0.98245615\n"
     ]
    }
   ],
   "source": [
    "loss, accuracy = model1.evaluate(x1_test, y1_test, batch_size=100)\n",
    "print(\"Loss = \" ,loss, \"Accuracy = \",accuracy)"
   ]
  },
  {
   "cell_type": "markdown",
   "metadata": {},
   "source": [
    "### Perform Prediction"
   ]
  },
  {
   "cell_type": "code",
   "execution_count": 43,
   "metadata": {},
   "outputs": [
    {
     "name": "stdout",
     "output_type": "stream",
     "text": [
      "Actual:  [1. 0.] , Predicted: [0.90762866 0.09237137]\n",
      "None\n",
      "Actual:  [0. 1.] , Predicted: [0.00486355 0.99513644]\n",
      "None\n",
      "Actual:  [0. 1.] , Predicted: [0.00633942 0.9936606 ]\n",
      "None\n",
      "Actual:  [1. 0.] , Predicted: [0.9931323  0.00686772]\n",
      "None\n",
      "Actual:  [1. 0.] , Predicted: [0.9969212 0.0030788]\n",
      "None\n",
      "Actual:  [0. 1.] , Predicted: [0.00126945 0.9987306 ]\n",
      "None\n",
      "Actual:  [0. 1.] , Predicted: [0.00147325 0.9985267 ]\n",
      "None\n",
      "Actual:  [0. 1.] , Predicted: [0.39952004 0.60047996]\n",
      "None\n",
      "Actual:  [1. 0.] , Predicted: [0.63182354 0.36817646]\n",
      "None\n",
      "Actual:  [1. 0.] , Predicted: [0.9931678  0.00683221]\n",
      "None\n",
      "Actual:  [1. 0.] , Predicted: [0.7785531  0.22144683]\n",
      "None\n",
      "Actual:  [0. 1.] , Predicted: [0.08812931 0.9118707 ]\n",
      "None\n",
      "Actual:  [1. 0.] , Predicted: [0.9597538  0.04024621]\n",
      "None\n",
      "Actual:  [0. 1.] , Predicted: [0.02571172 0.9742882 ]\n",
      "None\n",
      "Actual:  [1. 0.] , Predicted: [0.9950867  0.00491326]\n",
      "None\n",
      "Actual:  [0. 1.] , Predicted: [0.03978762 0.96021235]\n",
      "None\n",
      "Actual:  [1. 0.] , Predicted: [0.9937896  0.00621034]\n",
      "None\n",
      "Actual:  [1. 0.] , Predicted: [0.9973489  0.00265106]\n",
      "None\n",
      "Actual:  [1. 0.] , Predicted: [0.9984805  0.00151946]\n",
      "None\n",
      "Actual:  [0. 1.] , Predicted: [0.00191545 0.99808455]\n",
      "None\n",
      "Actual:  [0. 1.] , Predicted: [0.9668797  0.03312029]\n",
      "None\n",
      "Actual:  [1. 0.] , Predicted: [0.98229235 0.01770759]\n",
      "None\n",
      "Actual:  [0. 1.] , Predicted: [0.00134222 0.9986578 ]\n",
      "None\n",
      "Actual:  [1. 0.] , Predicted: [0.9967223  0.00327768]\n",
      "None\n",
      "Actual:  [1. 0.] , Predicted: [0.9925069  0.00749309]\n",
      "None\n",
      "Actual:  [1. 0.] , Predicted: [0.99727976 0.00272019]\n",
      "None\n",
      "Actual:  [1. 0.] , Predicted: [0.99136823 0.00863176]\n",
      "None\n",
      "Actual:  [1. 0.] , Predicted: [0.9745421  0.02545794]\n",
      "None\n",
      "Actual:  [1. 0.] , Predicted: [0.9886902  0.01130987]\n",
      "None\n",
      "Actual:  [0. 1.] , Predicted: [0.00211518 0.9978848 ]\n",
      "None\n",
      "Actual:  [1. 0.] , Predicted: [0.9866794  0.01332061]\n",
      "None\n",
      "Actual:  [1. 0.] , Predicted: [0.9973133  0.00268662]\n",
      "None\n",
      "Actual:  [1. 0.] , Predicted: [0.99633104 0.00366895]\n",
      "None\n",
      "Actual:  [1. 0.] , Predicted: [0.9912122  0.00878784]\n",
      "None\n",
      "Actual:  [1. 0.] , Predicted: [0.9971322  0.00286782]\n",
      "None\n",
      "Actual:  [1. 0.] , Predicted: [0.99489695 0.00510305]\n",
      "None\n",
      "Actual:  [0. 1.] , Predicted: [0.37767726 0.62232274]\n",
      "None\n",
      "Actual:  [1. 0.] , Predicted: [0.9976968  0.00230313]\n",
      "None\n",
      "Actual:  [0. 1.] , Predicted: [0.00417571 0.99582434]\n",
      "None\n",
      "Actual:  [1. 0.] , Predicted: [0.89688814 0.10311186]\n",
      "None\n",
      "Actual:  [1. 0.] , Predicted: [0.9952819  0.00471809]\n",
      "None\n",
      "Actual:  [0. 1.] , Predicted: [0.01663896 0.98336107]\n",
      "None\n",
      "Actual:  [1. 0.] , Predicted: [0.9915679  0.00843211]\n",
      "None\n",
      "Actual:  [1. 0.] , Predicted: [0.99235207 0.00764798]\n",
      "None\n",
      "Actual:  [1. 0.] , Predicted: [0.98696554 0.0130345 ]\n",
      "None\n",
      "Actual:  [1. 0.] , Predicted: [0.94934434 0.05065567]\n",
      "None\n",
      "Actual:  [1. 0.] , Predicted: [0.9978016  0.00219841]\n",
      "None\n",
      "Actual:  [1. 0.] , Predicted: [0.99602    0.00397997]\n",
      "None\n",
      "Actual:  [1. 0.] , Predicted: [0.87189436 0.12810564]\n",
      "None\n",
      "Actual:  [1. 0.] , Predicted: [0.9920689  0.00793116]\n",
      "None\n",
      "Actual:  [0. 1.] , Predicted: [0.00332156 0.9966785 ]\n",
      "None\n",
      "Actual:  [0. 1.] , Predicted: [0.00151693 0.9984831 ]\n",
      "None\n",
      "Actual:  [1. 0.] , Predicted: [0.5853719  0.41462806]\n",
      "None\n",
      "Actual:  [1. 0.] , Predicted: [0.9567034  0.04329662]\n",
      "None\n",
      "Actual:  [1. 0.] , Predicted: [0.9981629  0.00183704]\n",
      "None\n",
      "Actual:  [1. 0.] , Predicted: [0.9795242  0.02047582]\n",
      "None\n",
      "Actual:  [1. 0.] , Predicted: [0.99713194 0.00286798]\n",
      "None\n"
     ]
    }
   ],
   "source": [
    "predictions = model1.predict(x1_test)\n",
    "for i in np.arange(len(predictions)):\n",
    "    print(print(\"Actual: \" , y1_test[i],\", Predicted:\" , predictions[i]))"
   ]
  },
  {
   "cell_type": "markdown",
   "metadata": {},
   "source": [
    "## Conclusion\n",
    "#### The Neural NetWork Model has good prediction with accruracy score around 98% but takes more time than other model to train the data.  Furthermore, after applying feature selection with 16 features, the model still yields a good prediction with the same accuracy score = 0.9825 compared with 30 features, yet the loss is slightly higher than the loss with original 30 features (0.1148 and 0.0894)"
   ]
  }
 ],
 "metadata": {
  "kernelspec": {
   "display_name": "Python 3",
   "language": "python",
   "name": "python3"
  },
  "language_info": {
   "codemirror_mode": {
    "name": "ipython",
    "version": 3
   },
   "file_extension": ".py",
   "mimetype": "text/x-python",
   "name": "python",
   "nbconvert_exporter": "python",
   "pygments_lexer": "ipython3",
   "version": "3.7.7"
  }
 },
 "nbformat": 4,
 "nbformat_minor": 4
}
