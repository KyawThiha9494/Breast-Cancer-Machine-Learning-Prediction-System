{
 "cells": [
  {
   "cell_type": "markdown",
   "metadata": {},
   "source": [
    "# Polynomial Regression is a form of linear regression in which the relationship between the independent variable x and dependent variable y is modeled as an nth degree polynomial. Polynomial regression fits a nonlinear relationship between the value of x and the corresponding conditional mean of y, denoted E(y |x).\n",
    "\n",
    "# For degree=2, the linear modelis built. The mean squared error is calculated and r squared is found for training and testing."
   ]
  },
  {
   "cell_type": "markdown",
   "metadata": {},
   "source": [
    "# Import Libraries"
   ]
  },
  {
   "cell_type": "code",
   "execution_count": 1,
   "metadata": {},
   "outputs": [],
   "source": [
    "#importing numpy and pandas, seaborn\n",
    "\n",
    "import numpy as np #linear algebra\n",
    "import pandas as pd #datapreprocessing, CSV file I/O\n",
    "import seaborn as sns #for plotting graphs\n",
    "import matplotlib.pyplot as plt\n",
    "\n",
    "from sklearn.model_selection import train_test_split\n",
    "from sklearn import linear_model\n",
    "from sklearn.neighbors import KNeighborsRegressor\n",
    "from sklearn.preprocessing import PolynomialFeatures\n",
    "from sklearn import metrics\n",
    "from mpl_toolkits.mplot3d import Axes3D\n",
    "%matplotlib inline"
   ]
  },
  {
   "cell_type": "markdown",
   "metadata": {},
   "source": [
    "# Read File"
   ]
  },
  {
   "cell_type": "code",
   "execution_count": 2,
   "metadata": {},
   "outputs": [],
   "source": [
    "house = pd.read_csv(\"C:/Users\\Shermaine/Documents/Python ML II (Cher Wah)/kc_house_data.csv\")\n",
    "\n",
    "df = pd.DataFrame(house)"
   ]
  },
  {
   "cell_type": "markdown",
   "metadata": {},
   "source": [
    "# Train_Test_Split= 80/20"
   ]
  },
  {
   "cell_type": "code",
   "execution_count": 3,
   "metadata": {},
   "outputs": [
    {
     "name": "stdout",
     "output_type": "stream",
     "text": [
      "       bedrooms  bathrooms  sqft_living  waterfront  view  condition  grade  \\\n",
      "0             3       1.00         1180           0     0          3      7   \n",
      "1             3       2.25         2570           0     0          3      7   \n",
      "2             2       1.00          770           0     0          3      6   \n",
      "3             4       3.00         1960           0     0          5      7   \n",
      "4             3       2.00         1680           0     0          3      8   \n",
      "...         ...        ...          ...         ...   ...        ...    ...   \n",
      "21608         3       2.50         1530           0     0          3      8   \n",
      "21609         4       2.50         2310           0     0          3      8   \n",
      "21610         2       0.75         1020           0     0          3      7   \n",
      "21611         3       2.50         1600           0     0          3      8   \n",
      "21612         2       0.75         1020           0     0          3      7   \n",
      "\n",
      "       sqft_above  sqft_basement  yr_built  yr_renovated  zipcode      lat  \\\n",
      "0            1180              0      1955             0    98178  47.5112   \n",
      "1            2170            400      1951          1991    98125  47.7210   \n",
      "2             770              0      1933             0    98028  47.7379   \n",
      "3            1050            910      1965             0    98136  47.5208   \n",
      "4            1680              0      1987             0    98074  47.6168   \n",
      "...           ...            ...       ...           ...      ...      ...   \n",
      "21608        1530              0      2009             0    98103  47.6993   \n",
      "21609        2310              0      2014             0    98146  47.5107   \n",
      "21610        1020              0      2009             0    98144  47.5944   \n",
      "21611        1600              0      2004             0    98027  47.5345   \n",
      "21612        1020              0      2008             0    98144  47.5941   \n",
      "\n",
      "          long  sqft_living15  sqft_lot15  \n",
      "0     -122.257           1340        5650  \n",
      "1     -122.319           1690        7639  \n",
      "2     -122.233           2720        8062  \n",
      "3     -122.393           1360        5000  \n",
      "4     -122.045           1800        7503  \n",
      "...        ...            ...         ...  \n",
      "21608 -122.346           1530        1509  \n",
      "21609 -122.362           1830        7200  \n",
      "21610 -122.299           1020        2007  \n",
      "21611 -122.069           1410        1287  \n",
      "21612 -122.299           1020        1357  \n",
      "\n",
      "[21613 rows x 16 columns]\n"
     ]
    }
   ],
   "source": [
    "train_data,test_data=train_test_split(df,train_size=0.8,random_state=3)\n",
    "\n",
    "#same as in multiple linear regression\n",
    "#x = df[['bedrooms', 'bathrooms', 'sqft_living', 'sqft_lot','floors', 'waterfront', 'view', 'condition', 'grade', 'sqft_above', 'sqft_basement','yr_built', 'yr_renovated', 'zipcode', 'lat','sqft_living15','sqft_lot15']]\n",
    "#features1= ['bedrooms', 'bathrooms', 'sqft_living', 'sqft_lot','floors', 'waterfront', 'view', 'condition', 'grade', 'sqft_above', 'sqft_basement','yr_built', 'yr_renovated', 'zipcode', 'lat','sqft_living15','sqft_lot15']\n",
    "\n",
    "features= df.drop(['id','date','price', 'floors', 'sqft_lot'],axis=1)\n",
    "print(features)\n",
    "\n",
    "features1=x = ['bedrooms', 'bathrooms', 'sqft_living', 'waterfront', 'view', 'condition', 'grade', 'sqft_above', 'sqft_basement','yr_built', 'yr_renovated', 'zipcode', 'lat','sqft_lot15']"
   ]
  },
  {
   "cell_type": "markdown",
   "metadata": {},
   "source": [
    "# Train and Time Taken, Degree= 2"
   ]
  },
  {
   "cell_type": "code",
   "execution_count": 4,
   "metadata": {},
   "outputs": [
    {
     "name": "stdout",
     "output_type": "stream",
     "text": [
      "---0.11967992782592773 seconds ---\n"
     ]
    }
   ],
   "source": [
    "import time\n",
    "\n",
    "polyfeat=PolynomialFeatures(degree=2)\n",
    "\n",
    "start_time=time.time()\n",
    "\n",
    "xtrain_poly=polyfeat.fit_transform(train_data[features1])\n",
    "\n",
    "xtest_poly=polyfeat.fit_transform(test_data[features1])\n",
    "\n",
    "poly=linear_model.LinearRegression()\n",
    "poly.fit(xtrain_poly,train_data['price'])\n",
    "\n",
    "end_time=time.time()\n",
    "\n",
    "print(\"---%s seconds ---\" % (end_time - start_time))\n",
    "\n",
    "polypred=poly.predict(xtest_poly)"
   ]
  },
  {
   "cell_type": "markdown",
   "metadata": {},
   "source": [
    "# Print Results"
   ]
  },
  {
   "cell_type": "code",
   "execution_count": 5,
   "metadata": {},
   "outputs": [
    {
     "name": "stdout",
     "output_type": "stream",
     "text": [
      "PolynomialRegressionRebuild\n",
      "Mean Squared Error (MSE)  162705.19\n",
      "R-squared (training)  0.799\n",
      "R-squared (testing)  0.794\n"
     ]
    }
   ],
   "source": [
    "print('PolynomialRegressionRebuild')\n",
    "mean_squared_error=metrics.mean_squared_error(test_data['price'],polypred)\n",
    "print('Mean Squared Error (MSE) ', round(np.sqrt(mean_squared_error), 2))\n",
    "print('R-squared (training) ', round(poly.score(xtrain_poly, train_data['price']), 3))\n",
    "print('R-squared (testing) ', round(poly.score(xtest_poly, test_data['price']), 3))"
   ]
  },
  {
   "cell_type": "markdown",
   "metadata": {},
   "source": [
    "# R-squared testing: 0.794"
   ]
  },
  {
   "cell_type": "markdown",
   "metadata": {},
   "source": [
    "# Rebuild Model for degree=3.The mean squared error is calculated and r squared is found for training and testing."
   ]
  },
  {
   "cell_type": "markdown",
   "metadata": {},
   "source": [
    "# Train and Time Taken, Degree= 3"
   ]
  },
  {
   "cell_type": "code",
   "execution_count": 6,
   "metadata": {},
   "outputs": [
    {
     "name": "stdout",
     "output_type": "stream",
     "text": [
      "---1.0571742057800293 seconds ---\n"
     ]
    }
   ],
   "source": [
    "import time\n",
    "\n",
    "polyfeat=PolynomialFeatures(degree=3)\n",
    "\n",
    "start_time=time.time()\n",
    "\n",
    "xtrain_poly=polyfeat.fit_transform(train_data[features1])\n",
    "\n",
    "xtest_poly=polyfeat.fit_transform(test_data[features1])\n",
    "\n",
    "poly=linear_model.LinearRegression()\n",
    "poly.fit(xtrain_poly,train_data['price'])\n",
    "\n",
    "end_time=time.time()\n",
    "\n",
    "print(\"---%s seconds ---\" % (end_time - start_time))\n",
    "\n",
    "polypred=poly.predict(xtest_poly)"
   ]
  },
  {
   "cell_type": "markdown",
   "metadata": {},
   "source": [
    "# Print Results"
   ]
  },
  {
   "cell_type": "code",
   "execution_count": 7,
   "metadata": {},
   "outputs": [
    {
     "name": "stdout",
     "output_type": "stream",
     "text": [
      "PolynomialRegressionRebuild\n",
      "Mean Squared Error (MSE)  206770.69\n",
      "R-squared (training)  0.826\n",
      "R-squared (testing)  0.667\n"
     ]
    }
   ],
   "source": [
    "print('PolynomialRegressionRebuild')\n",
    "mean_squared_error=metrics.mean_squared_error(test_data['price'],polypred)\n",
    "print('Mean Squared Error (MSE) ', round(np.sqrt(mean_squared_error), 2))\n",
    "print('R-squared (training) ', round(poly.score(xtrain_poly, train_data['price']), 3))\n",
    "print('R-squared (testing) ', round(poly.score(xtest_poly, test_data['price']), 3))"
   ]
  },
  {
   "cell_type": "markdown",
   "metadata": {},
   "source": [
    "# R-squared testing: 0.667"
   ]
  },
  {
   "cell_type": "markdown",
   "metadata": {},
   "source": [
    "# Observation\n",
    "PolynomialRegression gives us R-squared (testing) score of 0.79. From above reports, we can conclude that Polynomial regression for degree=2, is best solution out of multiple linear regression and polynomial regression."
   ]
  },
  {
   "cell_type": "code",
   "execution_count": null,
   "metadata": {},
   "outputs": [],
   "source": []
  }
 ],
 "metadata": {
  "kernelspec": {
   "display_name": "Python 3",
   "language": "python",
   "name": "python3"
  },
  "language_info": {
   "codemirror_mode": {
    "name": "ipython",
    "version": 3
   },
   "file_extension": ".py",
   "mimetype": "text/x-python",
   "name": "python",
   "nbconvert_exporter": "python",
   "pygments_lexer": "ipython3",
   "version": "3.8.2"
  }
 },
 "nbformat": 4,
 "nbformat_minor": 4
}
